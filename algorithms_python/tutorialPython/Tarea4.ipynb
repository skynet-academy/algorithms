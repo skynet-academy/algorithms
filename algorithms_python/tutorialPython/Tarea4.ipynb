{
 "cells": [
  {
   "cell_type": "markdown",
   "id": "5d8beb33-7b84-4604-8c2e-c2ea2ddce931",
   "metadata": {},
   "source": [
    "# Pregunta 1\n"
   ]
  },
  {
   "cell_type": "code",
   "execution_count": 4,
   "id": "15a15e98-4116-4ed2-a4ec-2a7cbc941370",
   "metadata": {},
   "outputs": [],
   "source": [
    "def pol_p(x):\n",
    "    return 1 + 2*x + x**2"
   ]
  },
  {
   "cell_type": "code",
   "execution_count": 6,
   "id": "eeac2d8d-48e3-4e59-b6c6-34479710faa9",
   "metadata": {},
   "outputs": [
    {
     "data": {
      "text/plain": [
       "16"
      ]
     },
     "execution_count": 6,
     "metadata": {},
     "output_type": "execute_result"
    }
   ],
   "source": [
    "pol_p(3)"
   ]
  },
  {
   "cell_type": "code",
   "execution_count": 5,
   "id": "4b6e2e9f-f6d4-4f4f-8238-bc3a643a179c",
   "metadata": {},
   "outputs": [],
   "source": [
    "p = [1, 2, 1]\n",
    "q = [4, -17]\n",
    "r = [-1, 0, 0, -5, 0, 3]\n",
    "s = [0] * 40 + [5] + [0] * 39 + [2]\n"
   ]
  },
  {
   "cell_type": "markdown",
   "id": "42fe06d0-8096-4d6d-ad61-688cd4c0816f",
   "metadata": {},
   "source": [
    "a) Escriba la función grado (p) que entregue <br>\n",
    "   el grado de un polinomio."
   ]
  },
  {
   "cell_type": "code",
   "execution_count": 5,
   "id": "9dce8fd9-0b9d-447f-a88d-991c2007ab20",
   "metadata": {},
   "outputs": [],
   "source": [
    "def grado(p):\n",
    "    return len(p) - 1"
   ]
  },
  {
   "cell_type": "code",
   "execution_count": 15,
   "id": "961723bf-ba07-4d9d-95b8-d2d847057757",
   "metadata": {},
   "outputs": [
    {
     "name": "stdout",
     "output_type": "stream",
     "text": [
      "80\n"
     ]
    }
   ],
   "source": [
    "print(grado(s))\n",
    "#print(grado(q))\n",
    "#print(grado(r))\n",
    "#print(grado(s))"
   ]
  },
  {
   "cell_type": "markdown",
   "id": "764a83a6-bf72-4a02-8dc4-a3fba36d0c51",
   "metadata": {},
   "source": [
    "b) Escriba la función evaluar(p,x) que evalúe p <br>\n",
    "(representado como una lista) en el valor x:"
   ]
  },
  {
   "cell_type": "code",
   "execution_count": 9,
   "id": "db579462-bca3-40cb-95cc-b2aa1be9917a",
   "metadata": {},
   "outputs": [],
   "source": [
    "def evaluar(poli, x):\n",
    "    resultado = poli[0]\n",
    "    for i in range(1, len(poli)):\n",
    "        resultado = resultado + poli[i] * x ** i\n",
    "    return resultado"
   ]
  },
  {
   "cell_type": "code",
   "execution_count": 15,
   "id": "585fb47f-8ae3-4ed6-bad7-a99d8d77e5b4",
   "metadata": {},
   "outputs": [
    {
     "name": "stdout",
     "output_type": "stream",
     "text": [
      "16 4 -2.8234700000000004 3573798204920341090628649545788755964565715460032034862813675520000000000000000000000000000000000000000000000006683747269421867033919422988288000000000000000000000000000000000000000000000000000000000000000000000000000000000 23.279600000000002\n"
     ]
    }
   ],
   "source": [
    "print(evaluar(p, 3),\n",
    "      evaluar(q, 0),\n",
    "      evaluar(r, 1.1),\n",
    "      evaluar(s, 600),\n",
    "      evaluar([4,3,1], 3.14))"
   ]
  },
  {
   "cell_type": "markdown",
   "id": "ce5fa1d0-3612-4422-98e9-ff1695b98e4d",
   "metadata": {},
   "source": [
    "c) Escriba la función sumar_polinomios(p1, p2) que\n",
    "entregue la suma de dos polinomios:"
   ]
  },
  {
   "cell_type": "code",
   "execution_count": 39,
   "id": "05ac1cef-9644-4930-b6ae-30183522e10b",
   "metadata": {},
   "outputs": [],
   "source": [
    "def sumar_poli(poli1, poli2):\n",
    "    \n",
    "    size = max(len(poli1),len(poli2))\n",
    "    suma = [0 for i in range(size)]\n",
    "    \n",
    "    for i in range(0, len(poli1), 1):\n",
    "        suma[i] = poli1[i]\n",
    "    for i in range(len(poli2)):\n",
    "        suma[i] += poli2[i]\n",
    "    \n",
    "    return suma"
   ]
  },
  {
   "cell_type": "code",
   "execution_count": 23,
   "id": "c050cf94-9984-487a-8de4-89f19f9b2f4f",
   "metadata": {},
   "outputs": [],
   "source": [
    "#p = [1, 2, 1]\n",
    "r = [-1, 0, 0, -5, 0, 3]\n",
    "suma = [1, 2, 1, 0, 0, 0]\n"
   ]
  },
  {
   "cell_type": "code",
   "execution_count": 40,
   "id": "384106fd-d713-4931-946b-5d296bc36bf9",
   "metadata": {},
   "outputs": [
    {
     "data": {
      "text/plain": [
       "[0, 2, 1, -5, 0, 3]"
      ]
     },
     "execution_count": 40,
     "metadata": {},
     "output_type": "execute_result"
    }
   ],
   "source": [
    "sumar_poli(p,r)"
   ]
  },
  {
   "cell_type": "markdown",
   "id": "12ea5e7e-0dd6-49a3-bd40-a39f1492c726",
   "metadata": {},
   "source": [
    "d) Escriba la función derivar_polinomio(p) que entregue la derivada de un polinomio:"
   ]
  },
  {
   "cell_type": "code",
   "execution_count": 24,
   "id": "22b04bce-d3c7-4676-bc1b-09827d32264d",
   "metadata": {},
   "outputs": [
    {
     "data": {
      "text/plain": [
       "[-1, 0, 0, -5, 0, 3]"
      ]
     },
     "execution_count": 24,
     "metadata": {},
     "output_type": "execute_result"
    }
   ],
   "source": [
    "r"
   ]
  },
  {
   "cell_type": "code",
   "execution_count": 33,
   "id": "616e316e-e0dd-43df-8c8a-77433a672fdb",
   "metadata": {},
   "outputs": [],
   "source": [
    "def derivar_polinomio(poli):\n",
    "    # multiply coeficient with exponet\n",
    "    coef = poli\n",
    "    exp = []\n",
    "    for i in range(1, len(poli), 1):\n",
    "        if coef[i] == 0:\n",
    "            exp = exp + [0]\n",
    "        else:\n",
    "            exp = exp + [coef[i]*i]\n",
    "    return exp"
   ]
  },
  {
   "cell_type": "code",
   "execution_count": 34,
   "id": "5ec0f38b-bd24-493c-8921-b879e8e5c9b2",
   "metadata": {},
   "outputs": [
    {
     "data": {
      "text/plain": [
       "[0, 0, -15, 0, 15]"
      ]
     },
     "execution_count": 34,
     "metadata": {},
     "output_type": "execute_result"
    }
   ],
   "source": [
    "derivar_polinomio(r)"
   ]
  },
  {
   "cell_type": "code",
   "execution_count": 37,
   "id": "834cc833-4171-4c5e-890e-61bedaeedc15",
   "metadata": {},
   "outputs": [
    {
     "data": {
      "text/plain": [
       "81"
      ]
     },
     "execution_count": 37,
     "metadata": {},
     "output_type": "execute_result"
    }
   ],
   "source": [
    "len(s)"
   ]
  },
  {
   "cell_type": "code",
   "execution_count": 36,
   "id": "7d844a00-90f6-4adb-a9e6-925cd4c936eb",
   "metadata": {},
   "outputs": [
    {
     "data": {
      "text/plain": [
       "80"
      ]
     },
     "execution_count": 36,
     "metadata": {},
     "output_type": "execute_result"
    }
   ],
   "source": [
    "len(derivar_polinomio(s))"
   ]
  },
  {
   "cell_type": "markdown",
   "id": "2bd1bd1a-c8d8-4010-a3a3-c3cc02165d03",
   "metadata": {},
   "source": [
    "e) Escriba la función multiplicar_polinomios(p1, p2) que entregue el producto de dos\n",
    "polinomios:"
   ]
  },
  {
   "cell_type": "code",
   "execution_count": 49,
   "id": "75271ebb-0816-4dd2-b87b-86a3fab0a571",
   "metadata": {},
   "outputs": [],
   "source": [
    "def multiplicar_polinomios(poli1,poli2):\n",
    "    #size = max(len(poli1),len(poli2))\n",
    "    prod = []\n",
    "    prod_len = len(poli1) + len(poli2) - 1\n",
    "    for i in range(prod_len):\n",
    "        prod.append(0)\n",
    "    for i in range(len(poli1)):\n",
    "        for j in range(len(poli2)):\n",
    "            prod[i+j] += poli1[i] * poli2[j]\n",
    "    return prod"
   ]
  },
  {
   "cell_type": "code",
   "execution_count": 50,
   "id": "6590676e-5422-4dce-ab59-d12b4f339a4f",
   "metadata": {},
   "outputs": [
    {
     "data": {
      "text/plain": [
       "[4, -9, -30, -17]"
      ]
     },
     "execution_count": 50,
     "metadata": {},
     "output_type": "execute_result"
    }
   ],
   "source": [
    "multiplicar_polinomios(p,q)"
   ]
  },
  {
   "cell_type": "markdown",
   "id": "eec81a35-bd85-40a2-b937-99f9b0d61fdf",
   "metadata": {},
   "source": [
    "# Pregunta 2"
   ]
  },
  {
   "cell_type": "code",
   "execution_count": 54,
   "id": "fa119621-deae-49fc-bb40-13ebc2b87065",
   "metadata": {},
   "outputs": [],
   "source": [
    "list1 =[12, 9, 28, 11, 2, 35]\n",
    "list2=[2, 8, 95, 12]\n",
    "list3=[24, 81, 64, 35, 67, 18, 94]"
   ]
  },
  {
   "cell_type": "code",
   "execution_count": 57,
   "id": "443d5c94-d23f-4b82-a711-c6e1c56de44f",
   "metadata": {},
   "outputs": [],
   "source": [
    "### a = list(map(int, (input().split())))\n",
    "#b = list(map(int, (input().split())))\n",
    "#c = list(map(int, (input().split())))\n",
    "\n",
    "def mean_of_lists(a,b,c):\n",
    "    max_length = max(len(a), len(b), len(c))\n",
    "    [a.append(0) for x in range(max_length - len(a))]\n",
    "    [b.append(0) for y in range(max_length - len(b))]\n",
    "    [c.append(0) for z in range(max_length - len(c))]\n",
    "    average = []\n",
    "    div = lambda nro: 1 if nro != 0 else 0\n",
    "    [average.append(int((a[x] + b[x] + c[x])/ \\\n",
    "                    (div(a[x]) + div(b[x]) + div(c[x]))))\\\n",
    "                    for x in range(max_length)]\n",
    "    return average"
   ]
  },
  {
   "cell_type": "code",
   "execution_count": 58,
   "id": "0e1aa08a-10f0-4645-b18b-fd4ae13050ee",
   "metadata": {},
   "outputs": [
    {
     "data": {
      "text/plain": [
       "[12, 32, 62, 19, 34, 26, 94]"
      ]
     },
     "execution_count": 58,
     "metadata": {},
     "output_type": "execute_result"
    }
   ],
   "source": [
    "mean_of_lists(list1,list2,list3)"
   ]
  },
  {
   "cell_type": "code",
   "execution_count": 47,
   "id": "79fb6c9e-8531-4a0d-ac43-13043f70ce78",
   "metadata": {},
   "outputs": [],
   "source": [
    "r.append(0)"
   ]
  },
  {
   "cell_type": "code",
   "execution_count": 48,
   "id": "e6aeb1da-5b8d-42e3-874a-a46f76a93ee1",
   "metadata": {},
   "outputs": [
    {
     "data": {
      "text/plain": [
       "[-1, 0, 0, -5, 0, 3, 0, 0, 0, 0, 0]"
      ]
     },
     "execution_count": 48,
     "metadata": {},
     "output_type": "execute_result"
    }
   ],
   "source": [
    "r"
   ]
  },
  {
   "cell_type": "markdown",
   "id": "7c476592-2076-4382-85b3-9200b14ae478",
   "metadata": {},
   "source": [
    "# Question 3"
   ]
  },
  {
   "cell_type": "code",
   "execution_count": 1,
   "id": "d92f118b-770a-4431-8612-dbabfbf4bbb2",
   "metadata": {},
   "outputs": [
    {
     "name": "stdout",
     "output_type": "stream",
     "text": [
      "{'Normal': [70000, 105000, 126000], 'Extra': [37500, 30000, 15000], 'Super': [91000, 80600, 78000]}\n",
      "{'Normal': 217000, 'Extra': 232500, 'Super': 80600}\n",
      "None\n"
     ]
    }
   ],
   "source": [
    "refs  = {\"Normal\": [3000,4000] , \"Extra\": [7000, 500], \"Super\": [2000, 600]}\n",
    "compts = {\"Normal\": [10,15,18], \"Extra\": [5,4,2], \"Super\": [35,31,30]}\n",
    "\n",
    "def totales_anuales(a, b):\n",
    "    #totales_aceites = dict([[x, sum(y)] for x,y in refs.items()])\n",
    "    totals = {}\n",
    "    for x,y in compts.items():\n",
    "        totals[x] = [m*sum(refs[x]) for m in y]\n",
    "\n",
    "    return totals\n",
    "\n",
    "print(totales_anuales(refs, compts))\n",
    "\n",
    "\n",
    "def maximo_alquitran(a,b):\n",
    "    alquitran = [y[1] for x, y in compts.items()]\n",
    "    max_alquitran = {x:sum(y)*a for x,y in refs.items() for a in alquitran}\n",
    "    print(max_alquitran)\n",
    "\n",
    "print(maximo_alquitran(refs, compts))"
   ]
  },
  {
   "cell_type": "code",
   "execution_count": null,
   "id": "4fb7cac0-36fa-4a87-a9dc-c5701d1fcfb9",
   "metadata": {},
   "outputs": [],
   "source": []
  }
 ],
 "metadata": {
  "kernelspec": {
   "display_name": "Python 3 (ipykernel)",
   "language": "python",
   "name": "python3"
  },
  "language_info": {
   "codemirror_mode": {
    "name": "ipython",
    "version": 3
   },
   "file_extension": ".py",
   "mimetype": "text/x-python",
   "name": "python",
   "nbconvert_exporter": "python",
   "pygments_lexer": "ipython3",
   "version": "3.9.7"
  }
 },
 "nbformat": 4,
 "nbformat_minor": 5
}
