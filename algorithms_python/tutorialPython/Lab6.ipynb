{
 "cells": [
  {
   "cell_type": "markdown",
   "id": "ddea015d-631f-4e66-b2a3-5404f6229eff",
   "metadata": {},
   "source": [
    "# Lab 6.1\n",
    "## Question 1\n",
    "Iniciar la matriz A y B de N*m con valores <br>\n",
    "ingresados con el teclado\n",
    "- Separando previamente memoria para la matriz A\n",
    "- Sin separar mamoria previamente para la matriz B\n",
    "- inprima el contenido de las matrices en una sola línea"
   ]
  },
  {
   "cell_type": "code",
   "execution_count": 11,
   "id": "d404dedf-0433-4465-ba15-bc047c6d6101",
   "metadata": {},
   "outputs": [],
   "source": [
    "# First task\n",
    "rows = 3#int(input('Choose number of rows: '))\n",
    "columns = 2#int(input('Choose number of columns: '))"
   ]
  },
  {
   "cell_type": "code",
   "execution_count": 12,
   "id": "aa428941-1477-4519-a240-e6b5ee670b24",
   "metadata": {},
   "outputs": [
    {
     "name": "stdout",
     "output_type": "stream",
     "text": [
      "[[None, None], [None, None], [None, None]]\n"
     ]
    }
   ],
   "source": [
    "matrix = [None] * rows\n",
    "for fila in range(rows):\n",
    "    matrix[fila] = [None] * columns\n",
    "print(matrix)"
   ]
  },
  {
   "cell_type": "code",
   "execution_count": 19,
   "id": "f078d0f4-6996-4664-bedc-0214e174946d",
   "metadata": {},
   "outputs": [
    {
     "name": "stdin",
     "output_type": "stream",
     "text": [
      "number for 0, 0 position: 5\n",
      "number for 0, 1 position: 5\n",
      "number for 1, 0 position: 5\n",
      "number for 1, 1 position: 5\n",
      "number for 2, 0 position: 5\n",
      "number for 2, 1 position: 5\n"
     ]
    },
    {
     "name": "stdout",
     "output_type": "stream",
     "text": [
      "[[5, 5], [5, 5], [5, 5]]\n"
     ]
    }
   ],
   "source": [
    "for row in range(rows):\n",
    "    for column in range(columns):\n",
    "        x = int(input(f'number for {row}, {column} position:'))\n",
    "        matrix[row][column] = x\n",
    "print(matrix)"
   ]
  },
  {
   "cell_type": "code",
   "execution_count": 28,
   "id": "7f415399-f2e8-4b4a-a837-10afc9df9381",
   "metadata": {},
   "outputs": [
    {
     "name": "stdin",
     "output_type": "stream",
     "text": [
      "number for 0, 0 position: 1\n",
      "number for 0, 1 position: 2\n",
      "number for 1, 0 position: 3\n",
      "number for 1, 1 position: 4\n",
      "number for 2, 0 position: 5\n",
      "number for 2, 1 position: 6\n"
     ]
    },
    {
     "name": "stdout",
     "output_type": "stream",
     "text": [
      "[[1, 2], [3, 4], [5, 6]]\n"
     ]
    }
   ],
   "source": [
    "### second task\n",
    "rows = 3#int(input('Choose number of rows: '))\n",
    "columns = 2#int(input('Choose number of columns: '))\n",
    "matrix = []\n",
    "for row in range(rows):\n",
    "    matrix.append([])\n",
    "    for column in range(columns):\n",
    "        x = int(input(f'number for {row}, {column} position:'))\n",
    "        matrix[row].append(x)\n",
    "print(matrix)"
   ]
  },
  {
   "cell_type": "markdown",
   "id": "2967e988-2845-48e4-af90-ab95594b29d6",
   "metadata": {},
   "source": [
    "## Question 2\n",
    "a) Implemente una función que reciba dos valores N, M y devuelva una matriz de N*M <br>\n",
    "cuyos elementos sean valores aleatorios de -10 a 10 ambos inclusive. <br>\n",
    "b) Implemente una función que reciba una matriz e imprima sus elementos en forma de<br>\n",
    "filas y columnas."
   ]
  },
  {
   "cell_type": "code",
   "execution_count": 29,
   "id": "021024ef-3010-4c75-a079-5d5c03d9ba26",
   "metadata": {},
   "outputs": [],
   "source": [
    "import random"
   ]
  },
  {
   "cell_type": "code",
   "execution_count": 38,
   "id": "9f6c8b05-46ed-4013-a1e3-7005a67c2ab4",
   "metadata": {},
   "outputs": [],
   "source": [
    "# first task\n",
    "\n",
    "def matriz(rows, columns):\n",
    "    matrix = []\n",
    "    for row in range(rows):\n",
    "        matrix.append([])\n",
    "        for column in range(columns):\n",
    "            matrix[row].append(random.randint(-10, 10))\n",
    "    return matrix"
   ]
  },
  {
   "cell_type": "code",
   "execution_count": 39,
   "id": "487b24f6-6959-45a5-bdcf-3a1cfaa2f67c",
   "metadata": {},
   "outputs": [],
   "source": [
    "def imp_matriz(matrix):\n",
    "    for row in range(len(matrix)):\n",
    "        print()\n",
    "        for column in range(len(matrix[row])):\n",
    "            print(matrix[row][column], end=\" \")"
   ]
  },
  {
   "cell_type": "code",
   "execution_count": 40,
   "id": "5f162ad4-2d3f-45b4-ab60-06b2fd67e667",
   "metadata": {},
   "outputs": [
    {
     "name": "stdout",
     "output_type": "stream",
     "text": [
      "\n",
      "7 5 -3 \n",
      "6 -10 6 \n",
      "-5 -5 -3 \n",
      "-9 -2 -8 "
     ]
    }
   ],
   "source": [
    "n = 4#int(input(\"Ingrese n filas: \"))\n",
    "#número de columnas\n",
    "m = 3#int(input(\"Ingrese m columnas: \"))\n",
    "A = matriz(n, m)\n",
    "imp_matriz(A)"
   ]
  },
  {
   "cell_type": "markdown",
   "id": "9c305b8d-8ef1-4961-a554-dd38e3585aed",
   "metadata": {},
   "source": [
    "## Question 3\n",
    "- Función que recibe una matriz y devuelve la suma total\n",
    "- Función que recibe una matriz y devuelve la suma de cada columna\n",
    "- Función que recibe una matriz y devuelve la suma de cada fila"
   ]
  },
  {
   "cell_type": "code",
   "execution_count": 43,
   "id": "80a2dcf2-914f-4803-9cc4-b92503afbef6",
   "metadata": {},
   "outputs": [
    {
     "name": "stdout",
     "output_type": "stream",
     "text": [
      "31\n"
     ]
    }
   ],
   "source": [
    "#Inciso a\n",
    "def sumar_lista(lista):\n",
    "    acum = 0\n",
    "    for item in lista:\n",
    "        acum += item\n",
    "    return acum\n",
    "\n",
    "numeros = [7, 2, 22]\n",
    "\n",
    "print(sumar_lista(numeros))\n",
    "\n"
   ]
  },
  {
   "cell_type": "code",
   "execution_count": 44,
   "id": "b73ac2d1-3ab6-46b4-87a3-2789efab024e",
   "metadata": {},
   "outputs": [
    {
     "name": "stdout",
     "output_type": "stream",
     "text": [
      "[12, 15, 18]\n"
     ]
    }
   ],
   "source": [
    "#Inciso b\n",
    "matriz_colum = [\n",
    "    [1, 2, 3],\n",
    "    [4, 5, 6],\n",
    "    [7, 8, 9]\n",
    "]\n",
    "\n",
    "def sumar_colum(colum):\n",
    "    suma_colum = []\n",
    "    for i in range(len(matriz_colum[0])):\n",
    "        acum_colum = 0\n",
    "        for j in range(len(matriz_colum)):\n",
    "            acum_colum += matriz_colum[j][i]\n",
    "        suma_colum.append(acum_colum)\n",
    "    return suma_colum\n",
    "print(sumar_colum(matriz_colum))\n",
    "\n"
   ]
  },
  {
   "cell_type": "code",
   "execution_count": 45,
   "id": "2f67737b-2cca-422f-bec0-6a0b3a35562c",
   "metadata": {},
   "outputs": [
    {
     "name": "stdout",
     "output_type": "stream",
     "text": [
      "[112, 103, 93]\n"
     ]
    }
   ],
   "source": [
    "#Inciso c\n",
    "matriz_fila = [\n",
    "    [70, 20, 22],\n",
    "    [55, 37, 11],\n",
    "    [17, 19, 57]\n",
    "]\n",
    "\n",
    "def sumar_fila(fila):\n",
    "    suma_fila = []\n",
    "    for k in range(len(matriz_fila)):\n",
    "        acum_fila = 0\n",
    "        for l in range(len(matriz_fila[0])):\n",
    "            acum_fila += matriz_fila[k][l]\n",
    "        suma_fila.append(acum_fila)\n",
    "    return suma_fila\n",
    "print(sumar_fila((matriz_fila)))"
   ]
  },
  {
   "cell_type": "markdown",
   "id": "b2518197-12dd-4e13-80b7-15615663a7e0",
   "metadata": {},
   "source": [
    "## Question 4\n",
    "- Determinar el valor máximo de la matriz\n",
    "- Ordenar cada fila de la matriz\n",
    "- Intercambiar la primera y la última fila de la matriz"
   ]
  },
  {
   "cell_type": "code",
   "execution_count": 46,
   "id": "e12c85dd-c27b-4f39-a90a-eb45ddb754a3",
   "metadata": {},
   "outputs": [
    {
     "name": "stdin",
     "output_type": "stream",
     "text": [
      "Ingrese n filas:  2\n",
      "Ingrese m columnas:  2\n"
     ]
    },
    {
     "name": "stdout",
     "output_type": "stream",
     "text": [
      "\n",
      "6 3 \n",
      "6 -4 \n",
      "mayor:  6\n",
      "\n",
      "\n",
      "3 6 \n",
      "-4 6 \n",
      "\n",
      "-4 6 \n",
      "3 6 "
     ]
    }
   ],
   "source": [
    "#######\n",
    "#número de filas\n",
    "n = int(input(\"Ingrese n filas: \"))\n",
    "#número de columnas\n",
    "m = int(input(\"Ingrese m columnas: \"))\n",
    "A = matriz(n, m)\n",
    "imp_matriz(A)\n",
    "\n",
    "MAX = A[0][0]\n",
    "for f in range(len(A)):\n",
    "    for c in range(len(A[f])):\n",
    "        if A[f][c] > MAX:\n",
    "            MAX = A[f][c]\n",
    "    A[f].sort()\n",
    "print(\"\\nmayor: \", MAX)\n",
    "print()\n",
    "imp_matriz(A)\n",
    "\n",
    "#c)\n",
    "\n",
    "aux = A[0]\n",
    "A[0] = A[len(A)-1]\n",
    "A[len(A)-1] = aux\n",
    "print()\n",
    "imp_matriz(A)"
   ]
  },
  {
   "cell_type": "markdown",
   "id": "b803b3a8-90ce-4ae9-b91a-c5b52ae3f745",
   "metadata": {},
   "source": [
    "# Lab 6.2\n",
    "## Question 1"
   ]
  },
  {
   "cell_type": "code",
   "execution_count": 47,
   "id": "3081bdeb-69de-4e2d-ad61-b32dc2f0b755",
   "metadata": {},
   "outputs": [
    {
     "name": "stdout",
     "output_type": "stream",
     "text": [
      "a- Mostrar los datos en forma de una tabla\n",
      "         ene feb mar abr may jun jul ago sep oct nov dic \n",
      "Agencia1 -20 -8 18 19 11  1 -8  6  8-16 15 -7\n",
      "Habich -17 -7-16-12 -1-17 12 -7-17 10  1 -3\n",
      "Agencia3   3 13 -7-19-11 -5-15  9 18-14 11 -1\n",
      "Agencia4  19-20 -6-13 20 14  5  8 10  1 13 20\n",
      "Agencia5  20 17 -3-17 -1-16  2 -8-12 -2 12-16\n",
      "b- Total de ventas en el año de la agencia Hbaich\n",
      "-74\n",
      "c- Promedio de ventas el mes de diciembre\n",
      "-1.4\n",
      "d- Agencia que tuvo masyores ventas en mayo\n",
      "Mayor venta:  20 en Agencia4\n",
      "e- Mes con menores ventas del año\n",
      "[5, -5, -14, -42, 18, -23, -4, 8, 7, -21, 52, -7]\n",
      "Mes: abr\n"
     ]
    }
   ],
   "source": [
    "import random\n",
    "\n",
    "def genlista(n):\n",
    "    lista = [None]*n\n",
    "    for i in range(len(lista)):\n",
    "        lista[i] = random.randint(-20,20)\n",
    "    return lista\n",
    "\n",
    "meses = [\"ene\", \"feb\", \"mar\", \"abr\", \"may\", \"jun\", \"jul\", \"ago\", \"sep\", \"oct\", \"nov\", \"dic\"]\n",
    "\n",
    "agencias = [\"Agencia1\", \"Habich\", \"Agencia3\", \"Agencia4\", \"Agencia5\"]\n",
    "\n",
    "#obtener las ventas mesuales por agencia\n",
    "\n",
    "A = []\n",
    "for j in range(5):\n",
    "    lst = genlista(12)\n",
    "    A.append(lst)\n",
    "print(\"a- Mostrar los datos en forma de una tabla\")\n",
    "print(\" \"*9, end=\"\")\n",
    "for i in range(len(meses)):\n",
    "    print(meses[i], end=\" \")\n",
    "print()\n",
    "\n",
    "#Mostrar las agenicas y sus ventas mensuales\n",
    "for f in range(5):\n",
    "    print(agencias[f], end=\" \")\n",
    "    for c in range(12):\n",
    "        print(\"%3d\"%A[f][c], end=\"\")\n",
    "    print()\n",
    "print(\"b- Total de ventas en el año de la agencia Hbaich\")\n",
    "print(sum(A[1]))\n",
    "\n",
    "print(\"c- Promedio de ventas el mes de diciembre\")\n",
    "suma = 0\n",
    "for f in range(5):\n",
    "    suma = suma + A[f][11]\n",
    "prom = suma/5\n",
    "print(prom)\n",
    "\n",
    "print(\"d- Agencia que tuvo masyores ventas en mayo\")\n",
    "mayor_venta = A[0][4]\n",
    "num_agen = agencias[0]\n",
    "for f in range(1,5):\n",
    "    if A[f][4] > mayor_venta:\n",
    "        mayor_venta = A[f][4]\n",
    "        num_agen = agencias[f]\n",
    "print(\"Mayor venta: \", mayor_venta, \"en\", num_agen)\n",
    "\n",
    "print(\"e- Mes con menores ventas del año\")\n",
    "valor_mes = []\n",
    "for c in range(12):\n",
    "    suma = 0\n",
    "    for f in range(5):\n",
    "        suma = suma + A[f][c]\n",
    "    valor_mes = valor_mes + [suma]\n",
    "print(valor_mes)\n",
    "\n",
    "#mes con menor venta\n",
    "\n",
    "mes_menor = min(valor_mes)\n",
    "print(\"Mes:\",meses[valor_mes.index(mes_menor)])"
   ]
  },
  {
   "cell_type": "code",
   "execution_count": null,
   "id": "f7e6e663-2421-4daa-bea2-9b3bb15f5034",
   "metadata": {},
   "outputs": [],
   "source": []
  },
  {
   "cell_type": "code",
   "execution_count": 48,
   "id": "4d32079b-b669-47c0-8bfb-2418589c3c68",
   "metadata": {},
   "outputs": [
    {
     "name": "stdout",
     "output_type": "stream",
     "text": [
      "[[3, 2, 1, 4, 5, 3, 3], [4, 5, 2, 3, 2, 4, 1], [2, 3, 2, 4, 1, 4, 5], [1, 4, 5, 3, 3, 3, 2], [3, 2, 1, 3, 2, 4, 1], [4, 5, 2, 4, 5, 3, 3]]\n",
      "       Día 1 Día 2 Día 3 Día 4 Día 5 Día 6 Día 7 \n",
      "Obrero 1    3     2     1     4     5     3     3 \n",
      "Obrero 2    4     5     2     3     2     4     1 \n",
      "Obrero 3    2     3     2     4     1     4     5 \n",
      "Obrero 4    1     4     5     3     3     3     2 \n",
      "Obrero 5    3     2     1     3     2     4     1 \n",
      "Obrero 6    4     5     2     4     5     3     3 \n",
      "a- Cuanto cobrará cada obrero por horas extras en la semana\n",
      "[21, 21, 21, 21, 16, 26]\n",
      "[50, 100, 80, 80, 50, 100]\n",
      "Orero 1: 1050\n",
      "Orero 2: 2100\n",
      "Orero 3: 1680\n",
      "Orero 4: 1680\n",
      "Orero 5: 800\n",
      "Orero 6: 2600\n",
      "b- Total pagado por dichas horas de la empresa:  9910\n",
      "c- El obrero con mas horas extras\n",
      "Obrero 6\n",
      "d- La categoria de obreros con mas horas extras:  A\n"
     ]
    }
   ],
   "source": [
    "H = [ [3, 2, 1, 4, 5, 3, 3],\n",
    "      [4, 5, 2, 3, 2, 4, 1],\n",
    "      [2, 3, 2, 4, 1, 4, 5],\n",
    "      [1, 4, 5, 3, 3, 3, 2],\n",
    "      [3, 2, 1, 3, 2, 4, 1],\n",
    "      [4, 5, 2, 4, 5, 3, 3]\n",
    "      ]\n",
    "print(H)\n",
    "\n",
    "C = [\"C\", \"A\", \"B\", \"B\", \"C\", \"A\"]\n",
    "P = [[\"A\", 100],\n",
    "     [\"B\", 80],\n",
    "     [\"C\", 50]\n",
    "     ]\n",
    "print(\" \"*7, end=\"\")\n",
    "s = \"\"\n",
    "for i in range(1,8):\n",
    "    s = s + \"Día \"+ str(i) + \" \"\n",
    "print(s)\n",
    "\n",
    "c = 1\n",
    "for fila in H:\n",
    "    print(\"Obrero \"+ str(c), end=\"\")\n",
    "    for item in fila:\n",
    "        print(\"%5d\"%item, end=\" \")\n",
    "    print()\n",
    "    c = c + 1\n",
    "\n",
    "print(\"a- Cuanto cobrará cada obrero por horas extras en la semana\")\n",
    "total_hora = []\n",
    "for fila in H:\n",
    "    total_hora.append(sum(fila))\n",
    "print(total_hora)\n",
    "\n",
    "#lista de tasas por cada obrero\n",
    "precio = []\n",
    "for item in C:\n",
    "    for i in range(len(P)):\n",
    "        if P[i][0] == item:\n",
    "            precio.append(P[i][1])\n",
    "print(precio)\n",
    "\n",
    "mas_extras = []\n",
    "for i in range(len(total_hora)):\n",
    "    mas_extras.append(total_hora[i] * precio[i])\n",
    "    print(\"Orero \" + str(i+1) + \": \" + str(mas_extras[i]))\n",
    "\n",
    "print(\"b- Total pagado por dichas horas de la empresa: \", sum(mas_extras))\n",
    "\n",
    "print(\"c- El obrero con mas horas extras\")\n",
    "print(\"Obrero\", total_hora.index(max(total_hora)) + 1)\n",
    "\n",
    "print(\"d- La categoria de obreros con mas horas extras: \", C[total_hora.index(max(total_hora))])"
   ]
  },
  {
   "cell_type": "code",
   "execution_count": 49,
   "id": "68ee35e2-4eb6-44de-b65b-02950163dd80",
   "metadata": {},
   "outputs": [
    {
     "name": "stdout",
     "output_type": "stream",
     "text": [
      "   12    12    17     1     6 \n",
      "    1     6    14     9     3 \n",
      "   20     8    18     6     9 \n",
      "    4    20    11    15    19 \n",
      "   11     9     6     2     1 \n",
      "    8     6     8    13    11 \n",
      "   13    12    18    16    20 \n",
      "   19    13    17    12     2 \n",
      "    7     5    19     2    14 \n",
      "    6     2    16    10    10 \n",
      "Estudiante 1    12    12    17     1     6     9.6\n",
      "\n",
      "Estudiante 2     1     6    14     9     3     6.6\n",
      "\n",
      "Estudiante 3    20     8    18     6     9    12.2\n",
      "\n",
      "Estudiante 4     4    20    11    15    19    13.8\n",
      "\n",
      "Estudiante 5    11     9     6     2     1     5.8\n",
      "\n",
      "Estudiante 6     8     6     8    13    11     9.2\n",
      "\n",
      "Estudiante 7    13    12    18    16    20    15.8\n",
      "\n",
      "Estudiante 8    19    13    17    12     2    12.6\n",
      "\n",
      "Estudiante 9     7     5    19     2    14     9.4\n",
      "\n",
      "Estudiante 10     6     2    16    10    10     8.8\n",
      "\n",
      "Resumen       10.1   9.3  14.4   8.6   9.5\n"
     ]
    }
   ],
   "source": [
    "import random\n",
    "\n",
    "def SeparaMemoria(N,M):\n",
    "    A=[None]*N\n",
    "    for f in range(N):\n",
    "        A[f]=[None]*M\n",
    "    return A\n",
    "\n",
    "#print(A)\n",
    "def LlenarMatriz(A,N,M):\n",
    "    for f in range(N):\n",
    "        for c in range(M):\n",
    "            A[f][c]=random.randint(0,20)\n",
    "    return A\n",
    "\n",
    "\n",
    "\n",
    "def MostrarMatriz(A,N,M):\n",
    "    for f in range( len(A) ):\n",
    "        for c in range(M):\n",
    "            print(\"%5d\"%A[f][c],end=\" \")\n",
    "        print()\n",
    "\n",
    "N=10\n",
    "M=5\n",
    "A=SeparaMemoria(N,M)\n",
    "LlenarMatriz(A,N,M)\n",
    "MostrarMatriz(A,N,M)\n",
    "\n",
    "for f in range(0,N):\n",
    "    sf=0\n",
    "    print(\"Estudiante %d\"%(f+1),end=\" \")\n",
    "    for c in range(0,5):\n",
    "        print(\"%5d\"%A[f][c],end=\" \")\n",
    "        sf+=A[f][c]\n",
    "    #promedio es la suma de notas entre 5 (examenes)\n",
    "    print(\"%7.1f\"%(sf/5))\n",
    "    print()\n",
    "\n",
    "\n",
    "\n",
    "#Datos de resumen\n",
    "\n",
    "print(\"Resumen \"+\" \"*4,end=\"\")\n",
    "st=0\n",
    "for c in range(0,5):\n",
    "    sc=0\n",
    "    for f in range(0,N):\n",
    "        sc+=A[f][c]\n",
    "    st=st+sc/N\n",
    "    print(\"%6.1f\"%(sc/N),end=\"\")    \n",
    "print()"
   ]
  },
  {
   "cell_type": "code",
   "execution_count": null,
   "id": "fb64c4de-4110-4e6a-ba1e-c4d794427655",
   "metadata": {},
   "outputs": [],
   "source": []
  }
 ],
 "metadata": {
  "kernelspec": {
   "display_name": "Python 3 (ipykernel)",
   "language": "python",
   "name": "python3"
  },
  "language_info": {
   "codemirror_mode": {
    "name": "ipython",
    "version": 3
   },
   "file_extension": ".py",
   "mimetype": "text/x-python",
   "name": "python",
   "nbconvert_exporter": "python",
   "pygments_lexer": "ipython3",
   "version": "3.9.7"
  },
  "toc-autonumbering": true,
  "toc-showcode": false,
  "toc-showmarkdowntxt": false,
  "toc-showtags": false
 },
 "nbformat": 4,
 "nbformat_minor": 5
}
