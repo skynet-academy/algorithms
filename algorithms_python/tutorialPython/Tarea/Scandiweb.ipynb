{
 "cells": [
  {
   "cell_type": "code",
   "execution_count": 1,
   "id": "ff0b51aa-d97b-43c6-9d4e-85a7ae1644cb",
   "metadata": {},
   "outputs": [],
   "source": [
    "import pandas as pd"
   ]
  },
  {
   "cell_type": "code",
   "execution_count": 25,
   "id": "16eddaf7-e749-4f60-804f-4661f6dec947",
   "metadata": {},
   "outputs": [],
   "source": [
    "base = pd.read_excel('scandiData.xlsx')"
   ]
  },
  {
   "cell_type": "code",
   "execution_count": 26,
   "id": "6d6f2862-d14b-4ae2-ad4f-9b037fc6ec54",
   "metadata": {},
   "outputs": [],
   "source": [
    "base.rename(columns={'Unnamed: 7':'R_x_T'}, inplace=True)"
   ]
  },
  {
   "cell_type": "code",
   "execution_count": 27,
   "id": "026bcbbd-96f9-4923-9c6d-48369a403cb6",
   "metadata": {},
   "outputs": [
    {
     "name": "stdout",
     "output_type": "stream",
     "text": [
      "<class 'pandas.core.frame.DataFrame'>\n",
      "RangeIndex: 500 entries, 0 to 499\n",
      "Data columns (total 8 columns):\n",
      " #   Column                    Non-Null Count  Dtype  \n",
      "---  ------                    --------------  -----  \n",
      " 0   Month of Year             500 non-null    float64\n",
      " 1   Default Channel Grouping  500 non-null    object \n",
      " 2   Device Category           500 non-null    object \n",
      " 3   Sessions                  500 non-null    float64\n",
      " 4   Users                     500 non-null    float64\n",
      " 5   Transactions              500 non-null    float64\n",
      " 6   Revenue                   500 non-null    float64\n",
      " 7   R_x_T                     500 non-null    object \n",
      "dtypes: float64(5), object(3)\n",
      "memory usage: 31.4+ KB\n"
     ]
    }
   ],
   "source": [
    "base.info()"
   ]
  },
  {
   "cell_type": "code",
   "execution_count": 28,
   "id": "5c1bce72-702f-43ef-82d9-f924f4fffec7",
   "metadata": {},
   "outputs": [
    {
     "data": {
      "text/html": [
       "<div>\n",
       "<style scoped>\n",
       "    .dataframe tbody tr th:only-of-type {\n",
       "        vertical-align: middle;\n",
       "    }\n",
       "\n",
       "    .dataframe tbody tr th {\n",
       "        vertical-align: top;\n",
       "    }\n",
       "\n",
       "    .dataframe thead th {\n",
       "        text-align: right;\n",
       "    }\n",
       "</style>\n",
       "<table border=\"1\" class=\"dataframe\">\n",
       "  <thead>\n",
       "    <tr style=\"text-align: right;\">\n",
       "      <th></th>\n",
       "      <th>Month of Year</th>\n",
       "      <th>Default Channel Grouping</th>\n",
       "      <th>Device Category</th>\n",
       "      <th>Sessions</th>\n",
       "      <th>Users</th>\n",
       "      <th>Transactions</th>\n",
       "      <th>Revenue</th>\n",
       "      <th>R_x_T</th>\n",
       "    </tr>\n",
       "  </thead>\n",
       "  <tbody>\n",
       "    <tr>\n",
       "      <th>0</th>\n",
       "      <td>202004.0</td>\n",
       "      <td>Paid Search</td>\n",
       "      <td>desktop</td>\n",
       "      <td>90274.0</td>\n",
       "      <td>60856.0</td>\n",
       "      <td>5100.0</td>\n",
       "      <td>498275.586</td>\n",
       "      <td>97.701095</td>\n",
       "    </tr>\n",
       "    <tr>\n",
       "      <th>1</th>\n",
       "      <td>202005.0</td>\n",
       "      <td>Paid Search</td>\n",
       "      <td>desktop</td>\n",
       "      <td>89750.0</td>\n",
       "      <td>59798.0</td>\n",
       "      <td>4430.4</td>\n",
       "      <td>551052.378</td>\n",
       "      <td>124.379825</td>\n",
       "    </tr>\n",
       "  </tbody>\n",
       "</table>\n",
       "</div>"
      ],
      "text/plain": [
       "   Month of Year Default Channel Grouping Device Category  Sessions    Users  \\\n",
       "0       202004.0              Paid Search         desktop   90274.0  60856.0   \n",
       "1       202005.0              Paid Search         desktop   89750.0  59798.0   \n",
       "\n",
       "   Transactions     Revenue       R_x_T  \n",
       "0        5100.0  498275.586   97.701095  \n",
       "1        4430.4  551052.378  124.379825  "
      ]
     },
     "execution_count": 28,
     "metadata": {},
     "output_type": "execute_result"
    }
   ],
   "source": [
    "base.head(2)"
   ]
  },
  {
   "cell_type": "code",
   "execution_count": 29,
   "id": "b5c48a2f-d137-4763-985f-5fc0bc266f59",
   "metadata": {},
   "outputs": [
    {
     "data": {
      "text/html": [
       "<div>\n",
       "<style scoped>\n",
       "    .dataframe tbody tr th:only-of-type {\n",
       "        vertical-align: middle;\n",
       "    }\n",
       "\n",
       "    .dataframe tbody tr th {\n",
       "        vertical-align: top;\n",
       "    }\n",
       "\n",
       "    .dataframe thead th {\n",
       "        text-align: right;\n",
       "    }\n",
       "</style>\n",
       "<table border=\"1\" class=\"dataframe\">\n",
       "  <thead>\n",
       "    <tr style=\"text-align: right;\">\n",
       "      <th></th>\n",
       "      <th>Month of Year</th>\n",
       "      <th>Default Channel Grouping</th>\n",
       "      <th>Device Category</th>\n",
       "      <th>Sessions</th>\n",
       "      <th>Users</th>\n",
       "      <th>Transactions</th>\n",
       "      <th>Revenue</th>\n",
       "      <th>R_x_T</th>\n",
       "    </tr>\n",
       "  </thead>\n",
       "  <tbody>\n",
       "    <tr>\n",
       "      <th>0</th>\n",
       "      <td>202004</td>\n",
       "      <td>Paid Search</td>\n",
       "      <td>desktop</td>\n",
       "      <td>90274.0</td>\n",
       "      <td>60856.0</td>\n",
       "      <td>5100.0</td>\n",
       "      <td>498275.586</td>\n",
       "      <td>97.701095</td>\n",
       "    </tr>\n",
       "    <tr>\n",
       "      <th>1</th>\n",
       "      <td>202005</td>\n",
       "      <td>Paid Search</td>\n",
       "      <td>desktop</td>\n",
       "      <td>89750.0</td>\n",
       "      <td>59798.0</td>\n",
       "      <td>4430.4</td>\n",
       "      <td>551052.378</td>\n",
       "      <td>124.379825</td>\n",
       "    </tr>\n",
       "    <tr>\n",
       "      <th>2</th>\n",
       "      <td>202101</td>\n",
       "      <td>Paid Search</td>\n",
       "      <td>desktop</td>\n",
       "      <td>85338.0</td>\n",
       "      <td>59982.0</td>\n",
       "      <td>3434.4</td>\n",
       "      <td>499965.516</td>\n",
       "      <td>145.575797</td>\n",
       "    </tr>\n",
       "    <tr>\n",
       "      <th>3</th>\n",
       "      <td>202101</td>\n",
       "      <td>Organic Search</td>\n",
       "      <td>desktop</td>\n",
       "      <td>82060.0</td>\n",
       "      <td>69684.0</td>\n",
       "      <td>1048.8</td>\n",
       "      <td>114072.156</td>\n",
       "      <td>108.764451</td>\n",
       "    </tr>\n",
       "    <tr>\n",
       "      <th>4</th>\n",
       "      <td>202011</td>\n",
       "      <td>Paid Search</td>\n",
       "      <td>desktop</td>\n",
       "      <td>72894.0</td>\n",
       "      <td>51594.0</td>\n",
       "      <td>3132.0</td>\n",
       "      <td>446362.794</td>\n",
       "      <td>142.516856</td>\n",
       "    </tr>\n",
       "  </tbody>\n",
       "</table>\n",
       "</div>"
      ],
      "text/plain": [
       "   Month of Year Default Channel Grouping Device Category  Sessions    Users  \\\n",
       "0         202004              Paid Search         desktop   90274.0  60856.0   \n",
       "1         202005              Paid Search         desktop   89750.0  59798.0   \n",
       "2         202101              Paid Search         desktop   85338.0  59982.0   \n",
       "3         202101           Organic Search         desktop   82060.0  69684.0   \n",
       "4         202011              Paid Search         desktop   72894.0  51594.0   \n",
       "\n",
       "   Transactions     Revenue       R_x_T  \n",
       "0        5100.0  498275.586   97.701095  \n",
       "1        4430.4  551052.378  124.379825  \n",
       "2        3434.4  499965.516  145.575797  \n",
       "3        1048.8  114072.156  108.764451  \n",
       "4        3132.0  446362.794  142.516856  "
      ]
     },
     "execution_count": 29,
     "metadata": {},
     "output_type": "execute_result"
    }
   ],
   "source": [
    "base['Month of Year'] = base['Month of Year'].map(int)\n",
    "base.head()"
   ]
  },
  {
   "cell_type": "code",
   "execution_count": 30,
   "id": "5e7011ca-2fdb-4576-85d3-0754aa3628bc",
   "metadata": {},
   "outputs": [
    {
     "data": {
      "text/plain": [
       "0     2020-04-01\n",
       "1     2020-05-01\n",
       "2     2021-01-01\n",
       "3     2021-01-01\n",
       "4     2020-11-01\n",
       "         ...    \n",
       "495   2020-01-01\n",
       "496   2020-08-01\n",
       "497   2019-05-01\n",
       "498   2019-07-01\n",
       "499   2019-12-01\n",
       "Name: Month of Year, Length: 500, dtype: datetime64[ns]"
      ]
     },
     "execution_count": 30,
     "metadata": {},
     "output_type": "execute_result"
    }
   ],
   "source": [
    "base['Month of Year'] = pd.to_datetime(base['Month of Year'], format='%Y%m')\n",
    "base['Month of Year']"
   ]
  },
  {
   "cell_type": "code",
   "execution_count": 31,
   "id": "72b884dc-e3ed-48a3-9f76-9fada0f5b6f7",
   "metadata": {},
   "outputs": [
    {
     "data": {
      "text/plain": [
       "Paid Search       90\n",
       "Organic Search    90\n",
       "Direct            88\n",
       "(Other)           69\n",
       "Email             58\n",
       "Referral          53\n",
       "Social            43\n",
       "Display            9\n",
       "Name: Default Channel Grouping, dtype: int64"
      ]
     },
     "execution_count": 31,
     "metadata": {},
     "output_type": "execute_result"
    }
   ],
   "source": [
    "base['Default Channel Grouping'].value_counts()"
   ]
  },
  {
   "cell_type": "code",
   "execution_count": 32,
   "id": "56402ef7-ae6d-43e7-9f85-ad5365f4ac87",
   "metadata": {},
   "outputs": [
    {
     "data": {
      "text/plain": [
       "desktop    205\n",
       "mobile     190\n",
       "tablet     105\n",
       "Name: Device Category, dtype: int64"
      ]
     },
     "execution_count": 32,
     "metadata": {},
     "output_type": "execute_result"
    }
   ],
   "source": [
    "base['Device Category'].value_counts()"
   ]
  },
  {
   "cell_type": "code",
   "execution_count": null,
   "id": "72ececb8-37b0-42f3-86d5-2107760ed347",
   "metadata": {},
   "outputs": [],
   "source": []
  }
 ],
 "metadata": {
  "kernelspec": {
   "display_name": "Python 3 (ipykernel)",
   "language": "python",
   "name": "python3"
  },
  "language_info": {
   "codemirror_mode": {
    "name": "ipython",
    "version": 3
   },
   "file_extension": ".py",
   "mimetype": "text/x-python",
   "name": "python",
   "nbconvert_exporter": "python",
   "pygments_lexer": "ipython3",
   "version": "3.9.7"
  }
 },
 "nbformat": 4,
 "nbformat_minor": 5
}
