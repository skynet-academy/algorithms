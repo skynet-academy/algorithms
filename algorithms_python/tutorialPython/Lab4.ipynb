{
 "cells": [
  {
   "cell_type": "code",
   "execution_count": 2,
   "id": "2478b6db-12e8-401f-babc-3656d507dab6",
   "metadata": {},
   "outputs": [],
   "source": [
    "import random"
   ]
  },
  {
   "cell_type": "code",
   "execution_count": 36,
   "id": "32720091-106d-4e99-8c00-d06b2533ae5e",
   "metadata": {},
   "outputs": [
    {
     "name": "stdout",
     "output_type": "stream",
     "text": [
      "hola mundo\n"
     ]
    }
   ],
   "source": [
    "print('hola mundo')"
   ]
  },
  {
   "cell_type": "code",
   "execution_count": null,
   "id": "4ad066eb-7571-4687-ab09-c0f6db84c2cd",
   "metadata": {},
   "outputs": [],
   "source": [
    "# fisrt question\n",
    "w = 0\n",
    "while w < 21:\n",
    "    letra = chr(random.randint(97, 122))\n",
    "    print(letra)\n",
    "    if letra == 'w':\n",
    "        w += 1"
   ]
  },
  {
   "cell_type": "code",
   "execution_count": 55,
   "id": "70fadb95-68d8-431e-93c5-01c1a6fc7b71",
   "metadata": {},
   "outputs": [],
   "source": [
    "#1. ENCRIPTAR\n",
    "def encode(text):\n",
    "    text = text.upper()\n",
    "    s = ''\n",
    "    for i in range(0, len(text)):\n",
    "        simb = text[i]\n",
    "        cod = ord(simb)\n",
    "        if cod >= 65 and cod <= 90: #MAYUSCULA\n",
    "            if cod + 1 <=90:\n",
    "                cod = cod + 1\n",
    "            else:\n",
    "                cod = 64 + (cod+1)%90\n",
    "        \n",
    "        elif cod >= 48 and cod <= 57:\n",
    "            if cod == 48:\n",
    "                cod = 57\n",
    "            elif cod == 57:\n",
    "                cod = 48\n",
    "            else:\n",
    "                cod = cod + 1\n",
    "        s = s + chr(cod)\n",
    "    return s"
   ]
  },
  {
   "cell_type": "code",
   "execution_count": 7,
   "id": "45f65774-7e3c-4f1d-baef-15c5a7909e4f",
   "metadata": {},
   "outputs": [
    {
     "name": "stdin",
     "output_type": "stream",
     "text": [
      "Ingrese mensaje:  hola 1239,0 how arez you?\n"
     ]
    },
    {
     "name": "stdout",
     "output_type": "stream",
     "text": [
      "Mensaje encriptado: IPMB01289IPXBSFAZPV\n"
     ]
    }
   ],
   "source": [
    "msj = input(\"Ingrese mensaje: \")\n",
    "acum = \"\"\n",
    "for i in range(len(msj)):\n",
    "    if msj[i] >= \"a\" and msj[i] <= \"z\":\n",
    "        acum = acum + chr(ord(msj[i])-32)\n",
    "    else:\n",
    "        acum = acum + msj[i]\n",
    "\n",
    "aux = acum\n",
    "acum = \"\"\n",
    "for j in range(len(aux)):\n",
    "    if aux[j] >= \"A\" and aux[j] <= \"Z\":\n",
    "        if aux[j] == \"Z\":\n",
    "            acum = acum + \"A\"\n",
    "        else:\n",
    "            acum = acum + chr(ord(aux[j])+1)\n",
    "    else:\n",
    "        if aux[j] >= \"0\" and aux[j] <= \"9\":\n",
    "            if aux[j] == \"0\":\n",
    "                acum = acum + \"9\"\n",
    "            else:\n",
    "                acum = acum + chr(ord(aux[j])-1)\n",
    "print(\"Mensaje encriptado:\", acum)"
   ]
  },
  {
   "cell_type": "code",
   "execution_count": 56,
   "id": "0b2bbe90-4f6b-487d-827b-2b9f348b857d",
   "metadata": {},
   "outputs": [
    {
     "data": {
      "text/plain": [
       "'IPMB 2340,9 IPX BSFA ZPV?'"
      ]
     },
     "execution_count": 56,
     "metadata": {},
     "output_type": "execute_result"
    }
   ],
   "source": [
    "encode('hola 1239,0 how arez you?')"
   ]
  },
  {
   "cell_type": "code",
   "execution_count": 57,
   "id": "35229c4d-f08c-41fd-b6de-2ad51d11b0cd",
   "metadata": {},
   "outputs": [
    {
     "name": "stdin",
     "output_type": "stream",
     "text": [
      " hola 1239,0 how arez you?\n"
     ]
    },
    {
     "data": {
      "text/plain": [
       "'IPMB 2340,9 IPX BSFA ZPV?'"
      ]
     },
     "execution_count": 57,
     "metadata": {},
     "output_type": "execute_result"
    }
   ],
   "source": [
    "text = input()\n",
    "\n",
    "encode(text)"
   ]
  },
  {
   "cell_type": "code",
   "execution_count": 61,
   "id": "a88b9cd5-e89a-4df4-905e-831156871c16",
   "metadata": {},
   "outputs": [],
   "source": [
    "import pandas as pd"
   ]
  },
  {
   "cell_type": "code",
   "execution_count": 62,
   "id": "87494e5a-da7e-49c0-932b-c112851cc85d",
   "metadata": {},
   "outputs": [
    {
     "data": {
      "text/plain": [
       "     4\n",
       "o    3\n",
       "h    2\n",
       "a    2\n",
       "l    1\n",
       "1    1\n",
       "2    1\n",
       "3    1\n",
       ",    1\n",
       "w    1\n",
       "r    1\n",
       "e    1\n",
       "y    1\n",
       "u    1\n",
       "?    1\n",
       "dtype: int64"
      ]
     },
     "execution_count": 62,
     "metadata": {},
     "output_type": "execute_result"
    }
   ],
   "source": [
    "pd.Series(list('hola 123, how are you?')).value_counts()"
   ]
  },
  {
   "cell_type": "code",
   "execution_count": 65,
   "id": "9e488e61-78c0-4f15-8721-94fa2f2ee354",
   "metadata": {},
   "outputs": [],
   "source": [
    "test_str = \"hola 123, how are you?\"\n",
    "  \n",
    "def count_caracter_frequency(text):\n",
    "    all_freq = {}\n",
    "  \n",
    "    for i in text:\n",
    "        if i in all_freq:\n",
    "            all_freq[i] += 1\n",
    "        else:\n",
    "            all_freq[i] = 1\n",
    "    return all_freq"
   ]
  },
  {
   "cell_type": "code",
   "execution_count": 66,
   "id": "890b8979-041f-4cb4-8b1c-5a6680a5ab7d",
   "metadata": {},
   "outputs": [
    {
     "data": {
      "text/plain": [
       "{'h': 2,\n",
       " 'o': 3,\n",
       " 'l': 1,\n",
       " 'a': 2,\n",
       " ' ': 4,\n",
       " '1': 1,\n",
       " '2': 1,\n",
       " '3': 1,\n",
       " ',': 1,\n",
       " 'w': 1,\n",
       " 'r': 1,\n",
       " 'e': 1,\n",
       " 'y': 1,\n",
       " 'u': 1,\n",
       " '?': 1}"
      ]
     },
     "execution_count": 66,
     "metadata": {},
     "output_type": "execute_result"
    }
   ],
   "source": [
    "count_caracter_frequency(test_str)"
   ]
  },
  {
   "cell_type": "code",
   "execution_count": 72,
   "id": "bdbcd391-071f-40ef-bded-4990fb88f43a",
   "metadata": {},
   "outputs": [],
   "source": [
    "text = 'hola como estas saludos'"
   ]
  },
  {
   "cell_type": "code",
   "execution_count": 73,
   "id": "5b384cab-0a23-4984-8428-3c0c6ec49580",
   "metadata": {},
   "outputs": [
    {
     "name": "stdout",
     "output_type": "stream",
     "text": [
      "hola 4\n",
      "como 4\n",
      "estas 5\n",
      "saludos 7\n"
     ]
    }
   ],
   "source": [
    "words = text.split()\n",
    "for i in words:\n",
    "    print(i, len(i))\n",
    "print("
   ]
  },
  {
   "cell_type": "code",
   "execution_count": 82,
   "id": "36e45baf-5eb7-4a48-98d3-c0e8708c4f18",
   "metadata": {},
   "outputs": [],
   "source": [
    "def words_len(text):\n",
    "    words = text.split()\n",
    "    for i in words:\n",
    "        print(i,len(i))\n",
    "    longest = max(text.split(), key=len)\n",
    "    return 'The longest is ' + longest"
   ]
  },
  {
   "cell_type": "code",
   "execution_count": 83,
   "id": "f1fe6fba-eaaf-4a01-947f-1e231f091ed0",
   "metadata": {},
   "outputs": [
    {
     "name": "stdout",
     "output_type": "stream",
     "text": [
      "hola 4\n",
      "como 4\n",
      "estas 5\n",
      "saludos 7\n"
     ]
    },
    {
     "data": {
      "text/plain": [
       "'The longest is saludos'"
      ]
     },
     "execution_count": 83,
     "metadata": {},
     "output_type": "execute_result"
    }
   ],
   "source": [
    "words_len(text)"
   ]
  },
  {
   "cell_type": "code",
   "execution_count": 27,
   "id": "36e413fc-b55b-43f7-ad51-e0021200e272",
   "metadata": {},
   "outputs": [],
   "source": [
    "msj = 'hola 1239,0 how arez you?'"
   ]
  },
  {
   "cell_type": "code",
   "execution_count": 32,
   "id": "68bf57ae-c824-4094-af26-58e6897968d3",
   "metadata": {},
   "outputs": [],
   "source": [
    "acum = \"\"\n",
    "c1 = c2 = 0"
   ]
  },
  {
   "cell_type": "code",
   "execution_count": 33,
   "id": "1162cee4-cf4e-48ac-946e-2d0b5efc24c9",
   "metadata": {},
   "outputs": [
    {
     "name": "stdout",
     "output_type": "stream",
     "text": [
      "hola 4\n",
      "1239,0 6\n",
      "how 3\n",
      "arez 4\n",
      "you? 4\n",
      "La palabra más larga es:  1239,0\n"
     ]
    }
   ],
   "source": [
    "for i in range(len(msj)):\n",
    "    if msj[i] == \" \":\n",
    "        c2 += 1\n",
    "        print(acum, c1)\n",
    "        if c2 == 1:\n",
    "            MAX = c1\n",
    "            aux = acum\n",
    "        else:\n",
    "            if c1 > MAX:\n",
    "                MAX = c1\n",
    "                aux = acum\n",
    "        acum = \"\"\n",
    "        c1 = 0\n",
    "    else:\n",
    "        c1 += 1\n",
    "        acum = acum + msj[i]\n",
    "        \n",
    "    if i == (len(msj)-1):\n",
    "        print(acum, c1)\n",
    "        if c1 > MAX:\n",
    "            MAX = c1\n",
    "            aux = acum\n",
    "print(\"La palabra más larga es: \", aux)"
   ]
  },
  {
   "cell_type": "code",
   "execution_count": null,
   "id": "d56258dc-a666-4068-aadd-0627e338a787",
   "metadata": {},
   "outputs": [],
   "source": []
  },
  {
   "cell_type": "code",
   "execution_count": 34,
   "id": "172fbc68-7260-48f0-9683-ddaf4a10d3ba",
   "metadata": {},
   "outputs": [],
   "source": [
    "def printVertically():\n",
    "    input1 = input('Ingrese la primera palabra:')\n",
    "    input2 = input('Ingrese la segunda palabra:')\n",
    "    text = input1 + ' ' + input2\n",
    "    w = text.split(' ')\n",
    "    for i in range(len(max(w, key=len))):\n",
    "        for ww in w:\n",
    "            if i < len(ww):\n",
    "                print(ww[i], end = ' ')\n",
    "            else:\n",
    "                print(' ', end = ' ')\n",
    "        print('')"
   ]
  },
  {
   "cell_type": "code",
   "execution_count": 35,
   "id": "58b0c7ef-1127-4105-bbda-977ffa96ef65",
   "metadata": {},
   "outputs": [
    {
     "name": "stdin",
     "output_type": "stream",
     "text": [
      "Ingrese la primera palabra: alvin\n",
      "Ingrese la segunda palabra: alejandra\n"
     ]
    },
    {
     "name": "stdout",
     "output_type": "stream",
     "text": [
      "a a \n",
      "l l \n",
      "v e \n",
      "i j \n",
      "n a \n",
      "  n \n",
      "  d \n",
      "  r \n",
      "  a \n"
     ]
    }
   ],
   "source": [
    "printVertically()"
   ]
  },
  {
   "cell_type": "code",
   "execution_count": 101,
   "id": "6b1d9725-aa18-486c-bba1-e9f7f80f2e9c",
   "metadata": {},
   "outputs": [],
   "source": [
    "# queda pendiente la pregunta opcional"
   ]
  },
  {
   "cell_type": "code",
   "execution_count": 104,
   "id": "98995167-8e4e-49b8-a93b-bc86da68e3a5",
   "metadata": {},
   "outputs": [
    {
     "data": {
      "text/plain": [
       "'hola como estas saludos'"
      ]
     },
     "execution_count": 104,
     "metadata": {},
     "output_type": "execute_result"
    }
   ],
   "source": [
    "text"
   ]
  },
  {
   "cell_type": "code",
   "execution_count": null,
   "id": "41385023-de03-4791-ab6e-a18ab4301250",
   "metadata": {},
   "outputs": [],
   "source": []
  },
  {
   "cell_type": "code",
   "execution_count": 110,
   "id": "0bb9b02d-8e68-480d-89ae-110355283277",
   "metadata": {},
   "outputs": [
    {
     "name": "stdout",
     "output_type": "stream",
     "text": [
      "['saludos', 'estas', 'como', 'hola']\n"
     ]
    }
   ],
   "source": [
    "words = text.split()\n",
    "print(words[::-1])"
   ]
  },
  {
   "cell_type": "code",
   "execution_count": 113,
   "id": "72cf3431-46fb-4b02-b292-574a2555c160",
   "metadata": {},
   "outputs": [],
   "source": [
    "def words_backwards():\n",
    "    input1 = input('Ingrese un texto:')\n",
    "    words = input1.split()\n",
    "    backwards = words[::-1]\n",
    "    for i in backwards:\n",
    "        print(i)"
   ]
  },
  {
   "cell_type": "code",
   "execution_count": 114,
   "id": "23a560cc-7e63-43d1-a10a-621691c9ac1d",
   "metadata": {},
   "outputs": [
    {
     "name": "stdin",
     "output_type": "stream",
     "text": [
      "Ingrese un texto: hola mi nombre es alvin\n"
     ]
    },
    {
     "name": "stdout",
     "output_type": "stream",
     "text": [
      "alvin\n",
      "es\n",
      "nombre\n",
      "mi\n",
      "hola\n"
     ]
    }
   ],
   "source": [
    "words_backwards()"
   ]
  },
  {
   "cell_type": "code",
   "execution_count": 119,
   "id": "69a03eac-9534-48e4-9152-83e07f394d8a",
   "metadata": {},
   "outputs": [],
   "source": [
    "def clean_text():\n",
    "    input1 = input('Ingrese frase:')\n",
    "    return ' '.join(input1.split())"
   ]
  },
  {
   "cell_type": "code",
   "execution_count": null,
   "id": "d26e943d-34cb-42cb-a5b8-2e22f6c81a66",
   "metadata": {},
   "outputs": [],
   "source": []
  },
  {
   "cell_type": "code",
   "execution_count": null,
   "id": "e7f5bd1d-b41c-47c1-9eb8-fdc46df8e6ae",
   "metadata": {},
   "outputs": [],
   "source": []
  },
  {
   "cell_type": "code",
   "execution_count": 127,
   "id": "a3b1c272-b41e-40d3-ac1c-53f08ffaafa2",
   "metadata": {},
   "outputs": [],
   "source": [
    "def abc():\n",
    "    alphabet = \"abcdefghijklmnopqrstuvwxyz\"\n",
    "    sentence = input('Ingrese frase:\\n')\n",
    "    sentence = sentence.lower()\n",
    "    missing = ''\n",
    "    for letter in alphabet:\n",
    "        if letter not in sentence:\n",
    "            missing = missing+letter\n",
    "    if (len(missing) != 0):\n",
    "        print(\"La frase no contiene todas las letras del alfabeto, faltan:\", missing)\n",
    "    else:\n",
    "        print(\"La frase contiene todas las letras del alfabeto\")"
   ]
  },
  {
   "cell_type": "code",
   "execution_count": 128,
   "id": "5524a63b-ffae-4e33-8cc3-46e25f40ee29",
   "metadata": {},
   "outputs": [
    {
     "name": "stdin",
     "output_type": "stream",
     "text": [
      "Ingrese frase:\n",
      " adsjf;h \n"
     ]
    },
    {
     "name": "stdout",
     "output_type": "stream",
     "text": [
      "La frase no contiene todas las letras del alfabeto, faltan: bcegiklmnopqrtuvwxyz\n"
     ]
    }
   ],
   "source": [
    "abc()"
   ]
  },
  {
   "cell_type": "code",
   "execution_count": 130,
   "id": "dbdf570e-4c5d-40d5-8117-4abfec4be164",
   "metadata": {},
   "outputs": [
    {
     "name": "stdout",
     "output_type": "stream",
     "text": [
      "The strings aren't anagrams.\n"
     ]
    }
   ],
   "source": [
    "def check(s1, s2):\n",
    "     \n",
    "    # the sorted strings are checked\n",
    "    if(sorted(s1)== sorted(s2)):\n",
    "        print(\"The strings are anagrams.\")\n",
    "    else:\n",
    "        print(\"The strings aren't anagrams.\")        \n",
    "         \n",
    "# driver code \n",
    "s1 =\"listen\"\n",
    "s2 =\"silsent\"\n",
    "check(s1, s2)"
   ]
  },
  {
   "cell_type": "code",
   "execution_count": 22,
   "id": "a3cde990-329f-4440-b614-cfd9178b53cc",
   "metadata": {},
   "outputs": [
    {
     "name": "stdin",
     "output_type": "stream",
     "text": [
      "Enter first string: me gusta python\n",
      "Enter second string: me gusta programar\n"
     ]
    },
    {
     "name": "stdout",
     "output_type": "stream",
     "text": [
      "The common letters are:  a e g m o p s t u "
     ]
    }
   ],
   "source": [
    "s1=input(\"Enter first string:\")\n",
    "s2=input(\"Enter second string:\")\n",
    "a=list(set(s1)&set(s2))\n",
    "if len(a) < 1:\n",
    "    print('No existen letras comunes')\n",
    "else:\n",
    "    \n",
    "    a.sort()\n",
    "    print(\"The common letters are:\", end='')\n",
    "    for i in a:\n",
    "        print(i, end=' ')"
   ]
  },
  {
   "cell_type": "code",
   "execution_count": null,
   "id": "cfb84b2c-828b-4cd0-8701-9b2c59d7ea97",
   "metadata": {},
   "outputs": [],
   "source": []
  }
 ],
 "metadata": {
  "kernelspec": {
   "display_name": "Python 3 (ipykernel)",
   "language": "python",
   "name": "python3"
  },
  "language_info": {
   "codemirror_mode": {
    "name": "ipython",
    "version": 3
   },
   "file_extension": ".py",
   "mimetype": "text/x-python",
   "name": "python",
   "nbconvert_exporter": "python",
   "pygments_lexer": "ipython3",
   "version": "3.9.7"
  }
 },
 "nbformat": 4,
 "nbformat_minor": 5
}
