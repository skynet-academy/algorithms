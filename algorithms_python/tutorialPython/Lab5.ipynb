{
 "cells": [
  {
   "cell_type": "markdown",
   "id": "658f6263-ac1b-40df-8e04-9a558ac19577",
   "metadata": {},
   "source": [
    "# List in Python"
   ]
  },
  {
   "cell_type": "markdown",
   "id": "3de5f29c-7ed9-40f1-a434-24d643cbc86b",
   "metadata": {},
   "source": [
    "## Lab5.1\n",
    "### Question 1"
   ]
  },
  {
   "cell_type": "code",
   "execution_count": 1,
   "id": "f2917960-d0c9-42d2-a15c-3ef52f181fa3",
   "metadata": {},
   "outputs": [],
   "source": [
    "import random"
   ]
  },
  {
   "cell_type": "code",
   "execution_count": 10,
   "id": "b71a32e9-0026-46a5-a7f5-ca877215ea4d",
   "metadata": {},
   "outputs": [
    {
     "name": "stdin",
     "output_type": "stream",
     "text": [
      "Insert number of list elements: 4\n"
     ]
    },
    {
     "name": "stdout",
     "output_type": "stream",
     "text": [
      "[17, 89, 23, 97]\n"
     ]
    }
   ],
   "source": [
    "# with indexation\n",
    "n = int(input('Insert number of list elements:'))\n",
    "\n",
    "array = [None]*n\n",
    "for i in range(len(array)):\n",
    "    array[i] = random.randint(10,99)\n",
    "print(array)"
   ]
  },
  {
   "cell_type": "code",
   "execution_count": 8,
   "id": "6e6125f1-42e1-4815-8d20-afa9e450645c",
   "metadata": {},
   "outputs": [
    {
     "data": {
      "text/plain": [
       "0"
      ]
     },
     "execution_count": 8,
     "metadata": {},
     "output_type": "execute_result"
    }
   ],
   "source": [
    "len(array)"
   ]
  },
  {
   "cell_type": "code",
   "execution_count": 12,
   "id": "a213a155-5390-4599-a56b-7ad2cf6e1056",
   "metadata": {},
   "outputs": [
    {
     "name": "stdin",
     "output_type": "stream",
     "text": [
      "Insert number of list elements: 5\n"
     ]
    },
    {
     "name": "stdout",
     "output_type": "stream",
     "text": [
      "[30, 62, 72, 24, 23]\n"
     ]
    }
   ],
   "source": [
    "# without indexation\n",
    "n = int(input('Insert number of list elements:'))\n",
    "\n",
    "array = []\n",
    "for i in range(n):\n",
    "    array = array + [random.randint(10,99)]\n",
    "print(array)"
   ]
  },
  {
   "cell_type": "markdown",
   "id": "f6b26a84-61b8-444f-ab0a-d08d695a04c3",
   "metadata": {},
   "source": [
    "### Question 2"
   ]
  },
  {
   "cell_type": "code",
   "execution_count": 28,
   "id": "d1d2e1b3-a982-4566-bee3-8b28f0228afe",
   "metadata": {},
   "outputs": [
    {
     "name": "stdout",
     "output_type": "stream",
     "text": [
      "[13, 69, 64, 77, 69]\n",
      "58.4\n",
      "4\n"
     ]
    }
   ],
   "source": [
    "n = 5#int(input('Insert number of list elements:'))\n",
    "array = [None]*n\n",
    "suma = 0\n",
    "\n",
    "for i in range(len(array)):\n",
    "    array[i] = random.randint(10,99)\n",
    "    suma = suma + array[i]\n",
    "print(array)\n",
    "\n",
    "prom = suma/len(array)\n",
    "print(prom)\n",
    "\n",
    "mayores = 0\n",
    "for i in range(len(array)):\n",
    "    if array[i] > prom:\n",
    "        mayores += 1\n",
    "    else:\n",
    "        pass\n",
    "print(mayores)\n",
    "    "
   ]
  },
  {
   "cell_type": "code",
   "execution_count": 30,
   "id": "43f35b8e-7668-442a-a458-0b83e69a0d9c",
   "metadata": {},
   "outputs": [
    {
     "name": "stdout",
     "output_type": "stream",
     "text": [
      "[70, 79, 23, 18, 93]\n",
      "56.6\n",
      "3\n"
     ]
    }
   ],
   "source": [
    "n = 5#int(input('Insert number of list elements:'))\n",
    "array = []\n",
    "suma = 0\n",
    "for i in range(n):\n",
    "    array = array + [random.randint(10,99)]\n",
    "    suma = suma + array[i]\n",
    "print(array)\n",
    "prom = suma/n\n",
    "print(prom)\n",
    "mayores = 0\n",
    "for i in array:\n",
    "    if i > prom:\n",
    "        mayores += 1\n",
    "    else:\n",
    "        pass\n",
    "print(mayores)    \n"
   ]
  },
  {
   "cell_type": "markdown",
   "id": "533b2491-af29-4faa-9ac0-d337c0433e8e",
   "metadata": {},
   "source": [
    "### Queston 3"
   ]
  },
  {
   "cell_type": "code",
   "execution_count": 34,
   "id": "1bcd841b-a2bb-4cbf-9d02-3c32ea891953",
   "metadata": {},
   "outputs": [],
   "source": [
    "#from Funciones.funciones import *"
   ]
  },
  {
   "cell_type": "code",
   "execution_count": 39,
   "id": "40eea4f5-5e5d-4f4b-907e-4560787b7891",
   "metadata": {},
   "outputs": [],
   "source": [
    "# Function 1\n",
    "def genlist(n):\n",
    "    \n",
    "    array = []\n",
    "    for i in range(n):\n",
    "        array = array + [random.randint(-20,20)]\n",
    "    return array"
   ]
  },
  {
   "cell_type": "code",
   "execution_count": 53,
   "id": "2f26aaf1-ef1b-492f-8c67-e0db8afc3e54",
   "metadata": {},
   "outputs": [
    {
     "data": {
      "text/plain": [
       "[-2, -18, 7, 11, -15]"
      ]
     },
     "execution_count": 53,
     "metadata": {},
     "output_type": "execute_result"
    }
   ],
   "source": [
    "genlist(5)"
   ]
  },
  {
   "cell_type": "code",
   "execution_count": 43,
   "id": "67ed2c98-1672-4bb4-892e-92cb3bb7d40f",
   "metadata": {},
   "outputs": [],
   "source": [
    "# Function 2\n",
    "def sum_array(array):\n",
    "    suma = 0\n",
    "    for i in range(len(array)):\n",
    "        suma = suma + array[i]\n",
    "    return suma"
   ]
  },
  {
   "cell_type": "code",
   "execution_count": 45,
   "id": "de24a8bf-0a19-423e-a006-645ad2f179ca",
   "metadata": {},
   "outputs": [
    {
     "data": {
      "text/plain": [
       "9"
      ]
     },
     "execution_count": 45,
     "metadata": {},
     "output_type": "execute_result"
    }
   ],
   "source": [
    "sum_array([1,5,3])"
   ]
  },
  {
   "cell_type": "code",
   "execution_count": 64,
   "id": "535a7ae5-7d41-46c5-ae7e-edb5261aab6c",
   "metadata": {},
   "outputs": [],
   "source": [
    "# Function 3\n",
    "def averga_array(array):\n",
    "    return sum(array)/len(array)"
   ]
  },
  {
   "cell_type": "code",
   "execution_count": 56,
   "id": "b54705bf-958d-48d2-88a3-2d6cf830d4cc",
   "metadata": {},
   "outputs": [],
   "source": [
    "# Function 4\n",
    "def max_in_array(array):\n",
    "    \n",
    "    return max(array)"
   ]
  },
  {
   "cell_type": "code",
   "execution_count": 58,
   "id": "37f31a51-ec84-44dc-8435-8e7a179766ee",
   "metadata": {},
   "outputs": [
    {
     "data": {
      "text/plain": [
       "9"
      ]
     },
     "execution_count": 58,
     "metadata": {},
     "output_type": "execute_result"
    }
   ],
   "source": [
    "max_in_array([1,9,3,4])"
   ]
  },
  {
   "cell_type": "code",
   "execution_count": 59,
   "id": "e0b75ad5-bdcc-44b8-ab0d-eca65be30b8a",
   "metadata": {},
   "outputs": [],
   "source": [
    "# Function 5\n",
    "def min_in_array(array):\n",
    "    \n",
    "    return min(array)"
   ]
  },
  {
   "cell_type": "code",
   "execution_count": 60,
   "id": "466a5489-96ea-495c-8081-99ce67a456e5",
   "metadata": {},
   "outputs": [
    {
     "data": {
      "text/plain": [
       "1"
      ]
     },
     "execution_count": 60,
     "metadata": {},
     "output_type": "execute_result"
    }
   ],
   "source": [
    "min_in_array([1,9,3,4])"
   ]
  },
  {
   "cell_type": "code",
   "execution_count": 66,
   "id": "7a8278d7-cecc-409e-a5ce-60ae71623695",
   "metadata": {},
   "outputs": [
    {
     "name": "stdout",
     "output_type": "stream",
     "text": [
      "[14, 15, -1, 11, 9, 18, 8, 5, 10, -5]\n",
      "Sum of elements:  84\n",
      "Average of elements:  8.4\n",
      "Max of elements:  18\n",
      "Min of elements:  -5\n"
     ]
    }
   ],
   "source": [
    "# testing \n",
    "n = 10 #input('Insert number of list elements:')\n",
    "l = genlist(n)\n",
    "print(l)\n",
    "print('Sum of elements: ', sum_array(l))\n",
    "print('Average of elements: ', averga_array(l))\n",
    "print('Max of elements: ', max_in_array(l))\n",
    "print('Min of elements: ', min_in_array(l))"
   ]
  },
  {
   "cell_type": "markdown",
   "id": "422b522b-a52b-4402-b752-544322b0d831",
   "metadata": {},
   "source": [
    "### Question 4"
   ]
  },
  {
   "cell_type": "code",
   "execution_count": 86,
   "id": "6f70e09f-4454-4c63-adbc-9795d08b680f",
   "metadata": {},
   "outputs": [
    {
     "name": "stdout",
     "output_type": "stream",
     "text": [
      "[-1, -19, 14, -19, 11, -8, 1, -7, 15, 1]\n",
      "-12\n",
      "[0, 0, 14, 0, 0, -8, 0, 0, 0, 0]\n"
     ]
    }
   ],
   "source": [
    "n = 10 #input('Insert number of list elements:')\n",
    "array = genlist(n)\n",
    "suma = sum_array(array)\n",
    "print(array)\n",
    "print(suma)\n",
    "if suma >= 0:\n",
    "    for i in range(len(array)):\n",
    "        if array[i] % 2 == 0:\n",
    "            array[i] = 0\n",
    "        else:\n",
    "            pass\n",
    "else:\n",
    "    for i in range(len(array)):\n",
    "        if array[i] % 2 == 1:\n",
    "            array[i] = 0\n",
    "        else:\n",
    "            pass\n",
    "print(array)"
   ]
  },
  {
   "cell_type": "code",
   "execution_count": 85,
   "id": "ce0804f3-b14c-45e0-ab85-39abe3a92165",
   "metadata": {},
   "outputs": [
    {
     "name": "stdout",
     "output_type": "stream",
     "text": [
      "[-13, 6, 6, 12, 0, 19, 0, 7, -13, 1]\n",
      "25\n",
      "[0, 6, 0, 12, 0, 19, 0, 7, 0, 1]\n"
     ]
    }
   ],
   "source": [
    "#from funciones import *\n",
    "num = 10 # int(input(\"Ingrese tamaño de la lista: \"))\n",
    "l = genlista(num)\n",
    "print(l)\n",
    "print(sum_array(l))\n",
    "\n",
    "for i in range(len(l)):\n",
    "    if sum_array(l) > 0:\n",
    "        if i%2 == 0:\n",
    "            l[i] = 0\n",
    "    else:\n",
    "        if i%2 != 0:\n",
    "            l[i] = 0\n",
    "print(l)"
   ]
  },
  {
   "cell_type": "markdown",
   "id": "565783b3-1134-41af-aa3c-67da34ddb882",
   "metadata": {},
   "source": [
    "### Question 5"
   ]
  },
  {
   "cell_type": "code",
   "execution_count": 104,
   "id": "747ed7f2-d197-426c-ad57-0acddbbff301",
   "metadata": {},
   "outputs": [
    {
     "name": "stdout",
     "output_type": "stream",
     "text": [
      "List given:  [-4, 19, 14, 16, 0, 8, 15, -3, 6, -2]\n",
      "-4 19\n",
      "New list:  [14, 16, 0, 8, 15, -3, 6, -2]\n",
      "6.75\n",
      "[-3, -2]\n",
      "[14, 16, 0, 8, 15, 6]\n"
     ]
    }
   ],
   "source": [
    "num = 10 # int(input(\"Ingrese tamaño de la lista: \"))\n",
    "array = genlista(num)\n",
    "print('List given: ', array)\n",
    "# remove max number \n",
    "max_number = max_in_array(array)\n",
    "min_number = min_in_array(array)\n",
    "print(min_number, max_number)\n",
    "new_array = []\n",
    "for i in range(len(array)):\n",
    "    if array[i] != max_number and array[i] != min_number:\n",
    "        new_array = new_array + [array[i]]\n",
    "    else:\n",
    "        pass\n",
    "\n",
    "print('New list: ', new_array)\n",
    "\n",
    "prom = averga_array(new_array)\n",
    "\n",
    "print(prom)\n",
    "neg = []\n",
    "pos = []\n",
    "for i in new_array:\n",
    "    if i >= 0:\n",
    "        pos = pos + [i]\n",
    "    else:\n",
    "        neg = neg + [i]\n",
    "print(neg)\n",
    "print(pos)"
   ]
  },
  {
   "cell_type": "markdown",
   "id": "95a0fa06-cc09-4cf5-b4e3-4efff3c1b54a",
   "metadata": {},
   "source": [
    "## Lab5.2"
   ]
  },
  {
   "cell_type": "markdown",
   "id": "7fe8afad-9977-4596-9953-33851bbc3a4b",
   "metadata": {},
   "source": [
    "### Question1"
   ]
  },
  {
   "cell_type": "code",
   "execution_count": 128,
   "id": "26cc433b-eee9-4fc2-b865-158e80ee131a",
   "metadata": {},
   "outputs": [
    {
     "name": "stdout",
     "output_type": "stream",
     "text": [
      "List given:  [1, 15, -4, 3, 18, 1, 2, -15, -4, -19]\n",
      "-19\n"
     ]
    },
    {
     "data": {
      "text/plain": [
       "[1, 15, -4, 3, 18, 1, 2, -15, -4]"
      ]
     },
     "execution_count": 128,
     "metadata": {},
     "output_type": "execute_result"
    }
   ],
   "source": [
    "num = 10 # int(input(\"Ingrese tamaño de la lista: \"))\n",
    "array = genlista(num)\n",
    "print('List given: ', array)\n",
    "\n",
    "def eliminar_min(lista):\n",
    "    flag = True\n",
    "    y = []\n",
    "    print(valor_min(lista))\n",
    "    for i in range(len(lista)):\n",
    "        if lista[i] == valor_min(lista) and flag:\n",
    "            flag = False\n",
    "        else:\n",
    "            y = y + [lista[i]]\n",
    "    return y\n",
    "\n",
    "def remove_min(array):\n",
    "    flag = True\n",
    "    new_array = []\n",
    "    print(min_in_array(array))\n",
    "    for i in range(len(array)):\n",
    "        if array[i] == min_in_array(array) and flag:\n",
    "            flag = False\n",
    "        else:\n",
    "            new_array = new_array + [array[i]]\n",
    "    return new_array\n",
    "remove_min(array)"
   ]
  },
  {
   "cell_type": "markdown",
   "id": "9dd21bab-3f96-4db0-bbd5-a6232993ac98",
   "metadata": {},
   "source": [
    "### Question 2"
   ]
  },
  {
   "cell_type": "code",
   "execution_count": 151,
   "id": "907b807e-d644-4e20-a691-03565ada3e1d",
   "metadata": {},
   "outputs": [
    {
     "name": "stdout",
     "output_type": "stream",
     "text": [
      "List given:  [-8, 13, 4, -12, -1, 7, -14, 14, 2, 20]\n",
      "-14\n",
      "-12\n",
      "-8\n",
      "-1\n",
      "2\n",
      "4\n",
      "7\n",
      "13\n",
      "14\n",
      "New array: [-12, -8, -1, 2, 4, 7, 13, 14, 20]\n"
     ]
    }
   ],
   "source": [
    "num = 10 # int(input(\"Ingrese tamaño de la lista: \"))\n",
    "array = genlista(num)\n",
    "print('List given: ', array)\n",
    "\n",
    "aux = []\n",
    "#aux = aux + [min_in_array(array)]\n",
    "\n",
    "for i in range(num-1):\n",
    "    array = remove_min(array)\n",
    "    #print(array)\n",
    "    aux = aux + [min_in_array(array)]\n",
    "print('New array:' ,aux)"
   ]
  },
  {
   "cell_type": "code",
   "execution_count": 147,
   "id": "a4e17463-94e1-4b5b-963e-1b9afb5d0006",
   "metadata": {},
   "outputs": [
    {
     "name": "stdout",
     "output_type": "stream",
     "text": [
      "List given:  [-7, 13, -2, -17, 10, 8, -17, 10, 19, 16]\n",
      "0 -7|1 13|2 -2|3 -17|4 10|5 8|6 -17|7 10|8 19|9 16|"
     ]
    }
   ],
   "source": [
    "num = 10 # int(input(\"Ingrese tamaño de la lista: \"))\n",
    "array = genlista(num)\n",
    "print('List given: ', array)\n",
    "for (i, item) in enumerate(array, start=0):\n",
    "    print(i, item, end='|')"
   ]
  },
  {
   "cell_type": "code",
   "execution_count": 146,
   "id": "817a95a4-44c5-4445-a9ec-f694b238e42e",
   "metadata": {},
   "outputs": [
    {
     "name": "stdout",
     "output_type": "stream",
     "text": [
      "0,1,2,3,4,5,6,7,8,9,"
     ]
    }
   ],
   "source": [
    "for i in range(10):\n",
    "    print(i, end=',')"
   ]
  },
  {
   "cell_type": "markdown",
   "id": "9c8556f8-0f0c-4aae-ae72-8126c0325a8b",
   "metadata": {},
   "source": [
    "### Question 3"
   ]
  },
  {
   "cell_type": "code",
   "execution_count": 156,
   "id": "ce06052c-4fe6-444e-8830-89282e998360",
   "metadata": {},
   "outputs": [
    {
     "name": "stdin",
     "output_type": "stream",
     "text": [
      "Tell me the 1 word primero\n",
      "Tell me the 2 word segundo\n",
      "Tell me the 3 word tercero\n"
     ]
    },
    {
     "name": "stdout",
     "output_type": "stream",
     "text": [
      "['primero', 'segundo', 'tercero']\n"
     ]
    }
   ],
   "source": [
    "num = 3 # int(input(\"Ingrese tamaño de la lista: \"))\n",
    "\n",
    "array = []\n",
    "for i in range(num):\n",
    "    word = input(f'Tell me the {i + 1} word')\n",
    "    array = array + [word]\n",
    "print(array)"
   ]
  },
  {
   "cell_type": "markdown",
   "id": "ad3b3f9d-4e2a-46f0-bb75-e74ee5d106e0",
   "metadata": {},
   "source": [
    "### Question 4\n"
   ]
  },
  {
   "cell_type": "code",
   "execution_count": 158,
   "id": "8153799d-e9cd-42f1-b4f5-cb359026e1d2",
   "metadata": {},
   "outputs": [
    {
     "name": "stdout",
     "output_type": "stream",
     "text": [
      "List given:  [15, 8, 12, 12, 2, -19, -8, -6, 13, 5, -8, 3, 17, 0, 11, 8, -1, -2, 20, 20]\n",
      "New array: [0, 2, 3, 5, 8, 11, 12, -19, 13, 15, 17, 20, -2, -8, -6, -1]\n"
     ]
    }
   ],
   "source": [
    "num = 20 # int(input(\"Ingrese tamaño de la lista: \"))\n",
    "array = genlista(num)\n",
    "print('List given: ', array)\n",
    "\n",
    "new_array = []\n",
    "for i in set(array):\n",
    "    new_array = new_array + [i]\n",
    "print('New array:', new_array)"
   ]
  },
  {
   "cell_type": "code",
   "execution_count": 160,
   "id": "e22f030c-5f28-47f7-b6c6-064dfbd7e10d",
   "metadata": {},
   "outputs": [],
   "source": [
    "def verificar(p, zlista):\n",
    "    flag = False\n",
    "    for i in range(len(zlista)):\n",
    "        if p == zlista[i]:\n",
    "            flag = True\n",
    "    return flag\n",
    "\n",
    "def repetido(xlista):\n",
    "    z = []\n",
    "    for i in range(len(xlista)):\n",
    "        if verificar(xlista[i],z) == False:\n",
    "            z = z + [xlista[i]]\n",
    "    return z"
   ]
  },
  {
   "cell_type": "code",
   "execution_count": 161,
   "id": "ab73f297-473f-409a-8e40-a5cae84cc897",
   "metadata": {},
   "outputs": [
    {
     "name": "stdout",
     "output_type": "stream",
     "text": [
      "[-10, -12, 20, -2, -10, 7, 7, -1, 16, 9]\n",
      "[-10, -12, 20, -2, 7, -1, 16, 9]\n"
     ]
    }
   ],
   "source": [
    "n = 10 # int(input(\"Ingrese tamaño de lista: \"))\n",
    "y = genlista(n)\n",
    "print(y)\n",
    "l = repetido(y)\n",
    "print(l)"
   ]
  },
  {
   "cell_type": "markdown",
   "id": "5838e650-bfd7-4a9f-9cc8-93806c7b2eb3",
   "metadata": {},
   "source": [
    "### Question 5"
   ]
  },
  {
   "cell_type": "code",
   "execution_count": null,
   "id": "c640e416-0860-47c2-867e-8e6b23d33439",
   "metadata": {},
   "outputs": [],
   "source": [
    "#from funciones import *\n",
    "def una_vez(x):\n",
    "    z = []\n",
    "    for i in range(len(x)):\n",
    "        flag = False\n",
    "        for j in range(len(x)):\n",
    "            if j != i:\n",
    "                if x[i] == x[j]:\n",
    "                    flag = True\n",
    "        if flag == False:\n",
    "            z = z + [x[i]]\n",
    "    return z\n",
    "\n",
    "n = int(input(\"Ingrese tamaño de lista: \"))\n",
    "y = genlista(n)\n",
    "print(y)\n",
    "l = una_vez(y)\n",
    "print(l)\n"
   ]
  },
  {
   "cell_type": "markdown",
   "id": "415d9487-fc17-47da-aca0-7a851c678d11",
   "metadata": {},
   "source": [
    "### Question 6"
   ]
  },
  {
   "cell_type": "code",
   "execution_count": 170,
   "id": "cd6d6871-e4ce-4e13-abd4-128e6de7264c",
   "metadata": {},
   "outputs": [
    {
     "name": "stdout",
     "output_type": "stream",
     "text": [
      "[12, -3, 18, -3, 17, -3, 13, -7, -17, 20]\n",
      "[20, -17, -7, 13, -3, 17, -3, 18, -3, 12]\n"
     ]
    }
   ],
   "source": [
    "n = 10 # int(input(\"Ingrese tamaño de lista: \"))\n",
    "array = genlista(n)\n",
    "print(array)\n",
    "array.reverse()\n",
    "print(array)"
   ]
  },
  {
   "cell_type": "code",
   "execution_count": 177,
   "id": "89446ce8-d0c6-4382-a425-2dbb65a9b33c",
   "metadata": {},
   "outputs": [
    {
     "name": "stdin",
     "output_type": "stream",
     "text": [
      "Ingrese tamaño de lista:  3\n",
      "Ingrese una palabra:  a\n",
      "Ingrese una palabra:  le\n",
      "Ingrese una palabra:  les\n"
     ]
    },
    {
     "name": "stdout",
     "output_type": "stream",
     "text": [
      "Lista inicial es:  ['a', 'le', 'les']\n",
      "Inciso a\n",
      "Lista en orden contrario:  ['les', 'le', 'a']\n",
      "Inciso b\n",
      "Aquellas palabras mayores a la anterior y menores a la posterior alfabeticamente:  ['le']\n"
     ]
    }
   ],
   "source": [
    "#from funciones import *\n",
    "def contrario(lista):\n",
    "    aux = []\n",
    "    for element in lista:\n",
    "        aux = [element] + aux\n",
    "    return aux\n",
    "\n",
    "def alfabéticas(lista):\n",
    "    aux = []\n",
    "    for i in range(1, len(lista)-1):\n",
    "        if lista[i-1] < lista[i] and lista[i] < lista[i+1]:\n",
    "            aux = aux + [lista[i]]\n",
    "    return aux\n",
    "######\n",
    "def palabra(n):\n",
    "    a = []\n",
    "    for i in range(n):\n",
    "        d = input(\"Ingrese una palabra: \")\n",
    "        a = a + [d]\n",
    "    return a\n",
    "n = int(input(\"Ingrese tamaño de lista: \"))\n",
    "l = palabra(n)\n",
    "print(\"Lista inicial es: \", l)\n",
    "print(\"Inciso a\")\n",
    "l2 = contrario(l)\n",
    "print(\"Lista en orden contrario: \", l2)\n",
    "print(\"Inciso b\")\n",
    "l3 = alfabéticas(l)\n",
    "print(\"Aquellas palabras mayores a la anterior y menores a la posterior alfabeticamente: \", l3)"
   ]
  },
  {
   "cell_type": "markdown",
   "id": "a2e257b4-bde0-4e74-aa82-f18dc6f77b2a",
   "metadata": {},
   "source": [
    "## Lab5.3"
   ]
  },
  {
   "cell_type": "markdown",
   "id": "bff533ff-5667-4014-b7b0-722a701f04d8",
   "metadata": {},
   "source": [
    "### Question 1"
   ]
  },
  {
   "cell_type": "code",
   "execution_count": null,
   "id": "b4e8c4ce-d867-4c38-bbc3-fc1c1a978318",
   "metadata": {},
   "outputs": [],
   "source": [
    "def validar(password): #pwd es password\n",
    "    if len(password) < 8:\n",
    "        return False\n",
    "    #si está formado solo por dígitos o solo por caracteres alfabetoicos da false\n",
    "    if password.isdigit() or password.isalpha():\n",
    "        return False\n",
    "    if password.isalnum() == False:\n",
    "        return False\n",
    "    #debe contener al menos dos dígitos (números)\n",
    "    Cont_dig = 0 #contador de dígitos\n",
    "    for simb in password:\n",
    "        if simb.isdigit():\n",
    "            Cont_dig += 1\n",
    "    return Cont_dig >= 2\n",
    "#######\n",
    "contra = input(\"Ingrese contraseña: \")\n",
    "contra_valid = validar(contra)\n",
    "if y == True:\n",
    "    print(\"contraseña válida\")\n",
    "else:\n",
    "    print(\"contraseña inválida\")"
   ]
  },
  {
   "cell_type": "code",
   "execution_count": 178,
   "id": "58213626-8184-49f7-b9d2-5bee73f17a5e",
   "metadata": {},
   "outputs": [
    {
     "name": "stdout",
     "output_type": "stream",
     "text": [
      "Help on built-in function isalnum:\n",
      "\n",
      "isalnum() method of builtins.str instance\n",
      "    Return True if the string is an alpha-numeric string, False otherwise.\n",
      "    \n",
      "    A string is alpha-numeric if all characters in the string are alpha-numeric and\n",
      "    there is at least one character in the string.\n",
      "\n"
     ]
    }
   ],
   "source": [
    "help('hola'.isalnum)"
   ]
  },
  {
   "cell_type": "markdown",
   "id": "b7e4a0b0-6bb0-4075-91b4-62f3c05e8e3a",
   "metadata": {},
   "source": [
    "### Question 2"
   ]
  },
  {
   "cell_type": "code",
   "execution_count": 185,
   "id": "2a4df989-8ee2-460a-b831-7637dd514316",
   "metadata": {},
   "outputs": [
    {
     "name": "stdout",
     "output_type": "stream",
     "text": [
      "Number of words: 2\n",
      "Number of numbers: 2\n",
      "Number of lower cases: 4\n",
      "Number of upper cases: 3\n"
     ]
    }
   ],
   "source": [
    "frase = 'hola 1 ABC'#input('Tell me someting:')\n",
    "\n",
    "def number_words(frase):\n",
    "    #content = frase.split()\n",
    "    content = \n",
    "    count_words = 0\n",
    "    count_numbers = 0\n",
    "    for item in content:\n",
    "        if item.isdigit() == False:\n",
    "            count_words += 1\n",
    "        elif item.isdigit():\n",
    "            count_numbers += 1\n",
    "    count_min = 0\n",
    "    count_may = 0\n",
    "    for i in frase:\n",
    "        if i.islower():\n",
    "            count_min += 1\n",
    "        elif i.isupper():\n",
    "            count_may += 1\n",
    "    \n",
    "    print('Number of words:', count_words)\n",
    "    print('Number of numbers:', count_numbers)\n",
    "    print('Number of lower cases:', count_min)\n",
    "    print('Number of upper cases:', count_may)\n",
    "\n",
    "number_words(frase)"
   ]
  },
  {
   "cell_type": "code",
   "execution_count": 206,
   "id": "0c5add61-8fab-4180-a256-9ec906c54f48",
   "metadata": {},
   "outputs": [
    {
     "name": "stdout",
     "output_type": "stream",
     "text": [
      "['hola', 'hola1234', 'hola12342']\n"
     ]
    }
   ],
   "source": [
    "acum = ''\n",
    "content = []\n",
    "for i in frase:\n",
    "    if i.isspace():\n",
    "        content = content + [acum]\n",
    "    else:\n",
    "        acum = acum + i\n",
    "    \n",
    "    \n",
    "print(content)"
   ]
  },
  {
   "cell_type": "markdown",
   "id": "a8598ef9-ae42-4011-8cbd-e62a9b6f42ec",
   "metadata": {},
   "source": [
    "### Question 3"
   ]
  },
  {
   "cell_type": "code",
   "execution_count": 213,
   "id": "79b9b73b-39fb-47a1-80d7-bdf208b7d312",
   "metadata": {},
   "outputs": [
    {
     "name": "stdin",
     "output_type": "stream",
     "text": [
      "Ingrese una frase (para separar por comas):  z, a, b\n"
     ]
    },
    {
     "name": "stdout",
     "output_type": "stream",
     "text": [
      "Cadena trasnformada:   a- b-z\n"
     ]
    }
   ],
   "source": [
    "def transformar(frase):\n",
    "    lista = frase.split(\",\")\n",
    "    lista.sort()\n",
    "    nueva = \"-\".join(lista)\n",
    "    return nueva\n",
    "#######\n",
    "cad = input(\"Ingrese una frase (para separar por comas): \")\n",
    "print(\"Cadena trasnformada: \", transformar(cad))"
   ]
  },
  {
   "cell_type": "markdown",
   "id": "b72eee9f-6915-4aad-8cc6-c0d2b2ac7712",
   "metadata": {},
   "source": [
    "### Question 4"
   ]
  },
  {
   "cell_type": "code",
   "execution_count": 214,
   "id": "ea5cc3c2-b0f1-4a31-b35e-1afc7df253ef",
   "metadata": {},
   "outputs": [
    {
     "name": "stdout",
     "output_type": "stream",
     "text": [
      "Hola Como Estas\n",
      "El Enanito Estuvo por aqui\n",
      "Incio con la palabra ¨Saludos¨ y termina con ¨saludos¨? False\n",
      "El enanito estuvo por aqui\n",
      "eL ENANITO ESTUVO POR AQUI\n",
      "i love python\n",
      "ilovepython\n",
      "hola buenas tardes\n"
     ]
    }
   ],
   "source": [
    "cad = \"hola como estas\"\n",
    "a = cad.title()\n",
    "print(a)\n",
    "\n",
    "cad2 = \"el enanito estuvo por aqui\"\n",
    "b = cad2.replace(\"e\", \"E\")\n",
    "print(b)\n",
    "\n",
    "c = b.startswith(\"Hola\") and b.endswith(\"saludos\")\n",
    "print(\"Incio con la palabra ¨Saludos¨ y termina con ¨saludos¨?\", c)\n",
    "\n",
    "#cad = \"Inicia con la palabra\"\n",
    "d = b.capitalize()\n",
    "print(d)\n",
    "\n",
    "e = d.swapcase()\n",
    "print(e)\n",
    "\n",
    "e = \"  i love python   \"\n",
    "f = e.strip(\" \") #para quitar los espacioes sobrantes\n",
    "print(f)\n",
    "\n",
    "g = f.replace(\" \", \"\")\n",
    "print(g)\n",
    "\n",
    "g = \"hola   buenas   tardes\"\n",
    "lst = g.split()\n",
    "h = \" \".join(lst)\n",
    "print(h)"
   ]
  },
  {
   "cell_type": "code",
   "execution_count": 215,
   "id": "1c2f538d-c8bc-4c6a-bc37-0ab9b7ed5675",
   "metadata": {},
   "outputs": [
    {
     "name": "stdout",
     "output_type": "stream",
     "text": [
      "N1. Ordenación lexicográfica\n",
      "a cambiar la oración vamos\n",
      "N2. Ordenar por tamanño\n",
      "a la vamos cambiar oración\n",
      "\n"
     ]
    }
   ],
   "source": [
    "#Inciso a\n",
    "def Ordenar_léxico(cad):\n",
    "    lst = cad.split()\n",
    "    lst.sort()\n",
    "    nueva = \" \".join(lst)\n",
    "    return nueva\n",
    "\n",
    "#Inciso b\n",
    "def Ordenar_tamaño(cad):\n",
    "    lst = cad.split()\n",
    "    lst.sort(key=len)\n",
    "    nueva = \" \".join(lst)\n",
    "    return nueva\n",
    "\n",
    "#Inciso c\n",
    "def Eliminar_duplicados(lst):\n",
    "    nueva = []\n",
    "    for i in range(len(lst)):\n",
    "        for j in range(len(lst)):\n",
    "            if lst[i] == lst[j]:\n",
    "                #verificamos que en esté en la nueva lista para pasar a incluirla\n",
    "                pasar = True\n",
    "\n",
    "        for k in range(len(nueva)):\n",
    "            if lst[i] == nueva[k]:\n",
    "                pasar = False\n",
    "            if pasar == True:\n",
    "                nueva = nueva + [lst[i]]\n",
    "    return nueva\n",
    "#########\n",
    "cad = \"vamos a cambiar la oración\"\n",
    "print(\"N1. Ordenación lexicográfica\")\n",
    "y = Ordenar_léxico(cad)\n",
    "print(y)\n",
    "print(\"N2. Ordenar por tamanño\")\n",
    "z = Ordenar_tamaño(cad)\n",
    "print(z)\n",
    "cad = \"el 3 de julio de 2008 salió\"\n",
    "lista = cad.split()\n",
    "lst = Eliminar_duplicados(lista)\n",
    "cadf = \" \".join(lst)\n",
    "print(cadf)"
   ]
  },
  {
   "cell_type": "code",
   "execution_count": null,
   "id": "3297501e-3a76-4317-b931-ce82e2d32239",
   "metadata": {},
   "outputs": [],
   "source": []
  }
 ],
 "metadata": {
  "kernelspec": {
   "display_name": "Python 3 (ipykernel)",
   "language": "python",
   "name": "python3"
  },
  "language_info": {
   "codemirror_mode": {
    "name": "ipython",
    "version": 3
   },
   "file_extension": ".py",
   "mimetype": "text/x-python",
   "name": "python",
   "nbconvert_exporter": "python",
   "pygments_lexer": "ipython3",
   "version": "3.9.7"
  }
 },
 "nbformat": 4,
 "nbformat_minor": 5
}
